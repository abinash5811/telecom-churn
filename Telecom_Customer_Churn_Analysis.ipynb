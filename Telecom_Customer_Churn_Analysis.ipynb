{
  "cells": [
    {
      "cell_type": "markdown",
      "metadata": {
        "id": "view-in-github",
        "colab_type": "text"
      },
      "source": [
        "<a href=\"https://colab.research.google.com/github/abinash5811/telecom-churn/blob/main/Telecom_Customer_Churn_Analysis.ipynb\" target=\"_parent\"><img src=\"https://colab.research.google.com/assets/colab-badge.svg\" alt=\"Open In Colab\"/></a>"
      ]
    },
    {
      "cell_type": "markdown",
      "metadata": {
        "id": "VZRzO0kEpsVw"
      },
      "source": [
        "# Telco Customer Churn Analysis"
      ]
    },
    {
      "cell_type": "markdown",
      "metadata": {
        "id": "c8pJEhG6psV7"
      },
      "source": []
    },
    {
      "cell_type": "markdown",
      "metadata": {
        "id": "hRxIw2tApsV9"
      },
      "source": [
        "### Dataset Overview\n",
        "\n",
        "> \"Predict behavior to retain customers. You can analyze all relevant customer data and develop focused customer retention programs.\" [IBM Sample Data Sets]\n",
        "https://www.kaggle.com/blastchar/telco-customer-churn  Each row represents a customer, each column contains customer’s attributes described on the column Metadata. The raw data contains 7043 rows (customers) and 21 columns (features).\n",
        "The “Churn” column is our target.\n",
        "\n",
        "\n",
        "### Research Questions:\n",
        "1. For those who unsubscribed the service, how long did them usually stay in the service? and what was their average LTV(Life Time Value)?\n",
        "\n",
        "2. Relating to Question 1, what kinds of service they subscribed when they were still staying in subscription?\n",
        "\n",
        "3. For those who are still paying the service, what was their average LTV(Life Time Value)? and how long did they usually stay in the service?\n",
        "\n",
        "4. Relating to Question 3, what are the proportions of each kinds of service they are paying?\n",
        "\n",
        "5. For those who are still in service and with LTV more than the LTV of leaked customers, which service they are paying the most?\n",
        "\n",
        "6. For those who unsubscribed and still are subscibing the service, what is the proportion of each kinds of contract by each group?\n",
        "\n",
        "7. Among 'gender', 'Partner', 'Dependents','PhoneService', 'InternetService', 'contract', and 'PaymentMethod', what variable affected the LTV the most?"
      ]
    },
    {
      "cell_type": "markdown",
      "metadata": {
        "id": "6B9tokxjpsWA"
      },
      "source": [
        "## Data Wrangling"
      ]
    },
    {
      "cell_type": "markdown",
      "metadata": {
        "id": "sWDpRTXipsWB"
      },
      "source": [
        "### Gather"
      ]
    },
    {
      "cell_type": "code",
      "execution_count": null,
      "metadata": {
        "id": "Qt0rYNg7psWD"
      },
      "outputs": [],
      "source": [
        "# import all packages and set plots to be embedded inline\n",
        "import numpy as np\n",
        "import pandas as pd\n",
        "import statsmodels.api as sm\n",
        "import matplotlib.pyplot as plt\n",
        "import seaborn as sb\n",
        "\n",
        "%matplotlib inline\n",
        "\n",
        "# suppress warnings from final output\n",
        "import warnings\n",
        "warnings.simplefilter(\"ignore\")"
      ]
    },
    {
      "cell_type": "code",
      "execution_count": null,
      "metadata": {
        "id": "RC1MyzkRpsWG"
      },
      "outputs": [],
      "source": [
        "#load data\n",
        "df = pd.read_csv('WA_Fn-UseC_-Telco-Customer-Churn.csv')"
      ]
    },
    {
      "cell_type": "markdown",
      "metadata": {
        "id": "XbGUhzCmpsWH"
      },
      "source": [
        "### Data Assessing"
      ]
    },
    {
      "cell_type": "code",
      "execution_count": null,
      "metadata": {
        "id": "5s0_opFHpsWJ"
      },
      "outputs": [],
      "source": [
        "# set up to view all the info of the columns\n",
        "pd.set_option('display.max_columns', None)\n",
        "pd.set_option('display.max_rows', None)"
      ]
    },
    {
      "cell_type": "code",
      "execution_count": null,
      "metadata": {
        "scrolled": true,
        "id": "XQVZC-u5psWL",
        "outputId": "e772dcb1-543f-4dde-ce72-5d2d8e631555"
      },
      "outputs": [
        {
          "data": {
            "text/html": [
              "<div>\n",
              "<style scoped>\n",
              "    .dataframe tbody tr th:only-of-type {\n",
              "        vertical-align: middle;\n",
              "    }\n",
              "\n",
              "    .dataframe tbody tr th {\n",
              "        vertical-align: top;\n",
              "    }\n",
              "\n",
              "    .dataframe thead th {\n",
              "        text-align: right;\n",
              "    }\n",
              "</style>\n",
              "<table border=\"1\" class=\"dataframe\">\n",
              "  <thead>\n",
              "    <tr style=\"text-align: right;\">\n",
              "      <th></th>\n",
              "      <th>customerID</th>\n",
              "      <th>gender</th>\n",
              "      <th>SeniorCitizen</th>\n",
              "      <th>Partner</th>\n",
              "      <th>Dependents</th>\n",
              "      <th>tenure</th>\n",
              "      <th>PhoneService</th>\n",
              "      <th>MultipleLines</th>\n",
              "      <th>InternetService</th>\n",
              "      <th>OnlineSecurity</th>\n",
              "      <th>OnlineBackup</th>\n",
              "      <th>DeviceProtection</th>\n",
              "      <th>TechSupport</th>\n",
              "      <th>StreamingTV</th>\n",
              "      <th>StreamingMovies</th>\n",
              "      <th>Contract</th>\n",
              "      <th>PaperlessBilling</th>\n",
              "      <th>PaymentMethod</th>\n",
              "      <th>MonthlyCharges</th>\n",
              "      <th>TotalCharges</th>\n",
              "      <th>Churn</th>\n",
              "    </tr>\n",
              "  </thead>\n",
              "  <tbody>\n",
              "    <tr>\n",
              "      <td>1614</td>\n",
              "      <td>3813-DHBBB</td>\n",
              "      <td>Male</td>\n",
              "      <td>0</td>\n",
              "      <td>Yes</td>\n",
              "      <td>No</td>\n",
              "      <td>67</td>\n",
              "      <td>No</td>\n",
              "      <td>No phone service</td>\n",
              "      <td>DSL</td>\n",
              "      <td>Yes</td>\n",
              "      <td>Yes</td>\n",
              "      <td>No</td>\n",
              "      <td>Yes</td>\n",
              "      <td>No</td>\n",
              "      <td>Yes</td>\n",
              "      <td>Two year</td>\n",
              "      <td>Yes</td>\n",
              "      <td>Bank transfer (automatic)</td>\n",
              "      <td>50.95</td>\n",
              "      <td>3521.7</td>\n",
              "      <td>No</td>\n",
              "    </tr>\n",
              "    <tr>\n",
              "      <td>1593</td>\n",
              "      <td>0620-XEFWH</td>\n",
              "      <td>Male</td>\n",
              "      <td>0</td>\n",
              "      <td>Yes</td>\n",
              "      <td>Yes</td>\n",
              "      <td>4</td>\n",
              "      <td>Yes</td>\n",
              "      <td>No</td>\n",
              "      <td>No</td>\n",
              "      <td>No internet service</td>\n",
              "      <td>No internet service</td>\n",
              "      <td>No internet service</td>\n",
              "      <td>No internet service</td>\n",
              "      <td>No internet service</td>\n",
              "      <td>No internet service</td>\n",
              "      <td>Month-to-month</td>\n",
              "      <td>No</td>\n",
              "      <td>Mailed check</td>\n",
              "      <td>18.85</td>\n",
              "      <td>84.2</td>\n",
              "      <td>No</td>\n",
              "    </tr>\n",
              "    <tr>\n",
              "      <td>5133</td>\n",
              "      <td>6892-XPFPU</td>\n",
              "      <td>Male</td>\n",
              "      <td>1</td>\n",
              "      <td>Yes</td>\n",
              "      <td>No</td>\n",
              "      <td>24</td>\n",
              "      <td>Yes</td>\n",
              "      <td>Yes</td>\n",
              "      <td>Fiber optic</td>\n",
              "      <td>No</td>\n",
              "      <td>Yes</td>\n",
              "      <td>Yes</td>\n",
              "      <td>No</td>\n",
              "      <td>Yes</td>\n",
              "      <td>Yes</td>\n",
              "      <td>Month-to-month</td>\n",
              "      <td>Yes</td>\n",
              "      <td>Electronic check</td>\n",
              "      <td>104.25</td>\n",
              "      <td>2433.9</td>\n",
              "      <td>Yes</td>\n",
              "    </tr>\n",
              "    <tr>\n",
              "      <td>6072</td>\n",
              "      <td>3387-PLKUI</td>\n",
              "      <td>Female</td>\n",
              "      <td>0</td>\n",
              "      <td>Yes</td>\n",
              "      <td>Yes</td>\n",
              "      <td>13</td>\n",
              "      <td>Yes</td>\n",
              "      <td>No</td>\n",
              "      <td>No</td>\n",
              "      <td>No internet service</td>\n",
              "      <td>No internet service</td>\n",
              "      <td>No internet service</td>\n",
              "      <td>No internet service</td>\n",
              "      <td>No internet service</td>\n",
              "      <td>No internet service</td>\n",
              "      <td>Month-to-month</td>\n",
              "      <td>No</td>\n",
              "      <td>Mailed check</td>\n",
              "      <td>18.80</td>\n",
              "      <td>251.25</td>\n",
              "      <td>No</td>\n",
              "    </tr>\n",
              "    <tr>\n",
              "      <td>6858</td>\n",
              "      <td>2685-SREOM</td>\n",
              "      <td>Female</td>\n",
              "      <td>0</td>\n",
              "      <td>Yes</td>\n",
              "      <td>Yes</td>\n",
              "      <td>25</td>\n",
              "      <td>Yes</td>\n",
              "      <td>Yes</td>\n",
              "      <td>Fiber optic</td>\n",
              "      <td>No</td>\n",
              "      <td>No</td>\n",
              "      <td>Yes</td>\n",
              "      <td>No</td>\n",
              "      <td>No</td>\n",
              "      <td>Yes</td>\n",
              "      <td>Month-to-month</td>\n",
              "      <td>Yes</td>\n",
              "      <td>Electronic check</td>\n",
              "      <td>89.10</td>\n",
              "      <td>2368.4</td>\n",
              "      <td>Yes</td>\n",
              "    </tr>\n",
              "    <tr>\n",
              "      <td>2750</td>\n",
              "      <td>1179-INLAT</td>\n",
              "      <td>Male</td>\n",
              "      <td>0</td>\n",
              "      <td>No</td>\n",
              "      <td>No</td>\n",
              "      <td>3</td>\n",
              "      <td>Yes</td>\n",
              "      <td>No</td>\n",
              "      <td>No</td>\n",
              "      <td>No internet service</td>\n",
              "      <td>No internet service</td>\n",
              "      <td>No internet service</td>\n",
              "      <td>No internet service</td>\n",
              "      <td>No internet service</td>\n",
              "      <td>No internet service</td>\n",
              "      <td>One year</td>\n",
              "      <td>Yes</td>\n",
              "      <td>Mailed check</td>\n",
              "      <td>19.45</td>\n",
              "      <td>69.25</td>\n",
              "      <td>No</td>\n",
              "    </tr>\n",
              "    <tr>\n",
              "      <td>852</td>\n",
              "      <td>8713-IGZSO</td>\n",
              "      <td>Male</td>\n",
              "      <td>0</td>\n",
              "      <td>No</td>\n",
              "      <td>No</td>\n",
              "      <td>2</td>\n",
              "      <td>Yes</td>\n",
              "      <td>Yes</td>\n",
              "      <td>No</td>\n",
              "      <td>No internet service</td>\n",
              "      <td>No internet service</td>\n",
              "      <td>No internet service</td>\n",
              "      <td>No internet service</td>\n",
              "      <td>No internet service</td>\n",
              "      <td>No internet service</td>\n",
              "      <td>Month-to-month</td>\n",
              "      <td>No</td>\n",
              "      <td>Mailed check</td>\n",
              "      <td>24.85</td>\n",
              "      <td>62</td>\n",
              "      <td>No</td>\n",
              "    </tr>\n",
              "    <tr>\n",
              "      <td>3452</td>\n",
              "      <td>8950-MTZNV</td>\n",
              "      <td>Male</td>\n",
              "      <td>0</td>\n",
              "      <td>No</td>\n",
              "      <td>No</td>\n",
              "      <td>1</td>\n",
              "      <td>Yes</td>\n",
              "      <td>No</td>\n",
              "      <td>DSL</td>\n",
              "      <td>No</td>\n",
              "      <td>No</td>\n",
              "      <td>No</td>\n",
              "      <td>No</td>\n",
              "      <td>No</td>\n",
              "      <td>No</td>\n",
              "      <td>Month-to-month</td>\n",
              "      <td>Yes</td>\n",
              "      <td>Mailed check</td>\n",
              "      <td>44.95</td>\n",
              "      <td>44.95</td>\n",
              "      <td>No</td>\n",
              "    </tr>\n",
              "    <tr>\n",
              "      <td>3328</td>\n",
              "      <td>1640-PLFMP</td>\n",
              "      <td>Female</td>\n",
              "      <td>0</td>\n",
              "      <td>No</td>\n",
              "      <td>No</td>\n",
              "      <td>1</td>\n",
              "      <td>Yes</td>\n",
              "      <td>No</td>\n",
              "      <td>Fiber optic</td>\n",
              "      <td>No</td>\n",
              "      <td>No</td>\n",
              "      <td>No</td>\n",
              "      <td>No</td>\n",
              "      <td>No</td>\n",
              "      <td>No</td>\n",
              "      <td>Month-to-month</td>\n",
              "      <td>Yes</td>\n",
              "      <td>Electronic check</td>\n",
              "      <td>70.25</td>\n",
              "      <td>70.25</td>\n",
              "      <td>No</td>\n",
              "    </tr>\n",
              "    <tr>\n",
              "      <td>6161</td>\n",
              "      <td>4343-EJVQB</td>\n",
              "      <td>Male</td>\n",
              "      <td>0</td>\n",
              "      <td>No</td>\n",
              "      <td>No</td>\n",
              "      <td>7</td>\n",
              "      <td>Yes</td>\n",
              "      <td>No</td>\n",
              "      <td>Fiber optic</td>\n",
              "      <td>Yes</td>\n",
              "      <td>No</td>\n",
              "      <td>No</td>\n",
              "      <td>No</td>\n",
              "      <td>No</td>\n",
              "      <td>No</td>\n",
              "      <td>Month-to-month</td>\n",
              "      <td>No</td>\n",
              "      <td>Mailed check</td>\n",
              "      <td>74.35</td>\n",
              "      <td>533.6</td>\n",
              "      <td>No</td>\n",
              "    </tr>\n",
              "  </tbody>\n",
              "</table>\n",
              "</div>"
            ],
            "text/plain": [
              "      customerID  gender  SeniorCitizen Partner Dependents  tenure  \\\n",
              "1614  3813-DHBBB    Male              0     Yes         No      67   \n",
              "1593  0620-XEFWH    Male              0     Yes        Yes       4   \n",
              "5133  6892-XPFPU    Male              1     Yes         No      24   \n",
              "6072  3387-PLKUI  Female              0     Yes        Yes      13   \n",
              "6858  2685-SREOM  Female              0     Yes        Yes      25   \n",
              "2750  1179-INLAT    Male              0      No         No       3   \n",
              "852   8713-IGZSO    Male              0      No         No       2   \n",
              "3452  8950-MTZNV    Male              0      No         No       1   \n",
              "3328  1640-PLFMP  Female              0      No         No       1   \n",
              "6161  4343-EJVQB    Male              0      No         No       7   \n",
              "\n",
              "     PhoneService     MultipleLines InternetService       OnlineSecurity  \\\n",
              "1614           No  No phone service             DSL                  Yes   \n",
              "1593          Yes                No              No  No internet service   \n",
              "5133          Yes               Yes     Fiber optic                   No   \n",
              "6072          Yes                No              No  No internet service   \n",
              "6858          Yes               Yes     Fiber optic                   No   \n",
              "2750          Yes                No              No  No internet service   \n",
              "852           Yes               Yes              No  No internet service   \n",
              "3452          Yes                No             DSL                   No   \n",
              "3328          Yes                No     Fiber optic                   No   \n",
              "6161          Yes                No     Fiber optic                  Yes   \n",
              "\n",
              "             OnlineBackup     DeviceProtection          TechSupport  \\\n",
              "1614                  Yes                   No                  Yes   \n",
              "1593  No internet service  No internet service  No internet service   \n",
              "5133                  Yes                  Yes                   No   \n",
              "6072  No internet service  No internet service  No internet service   \n",
              "6858                   No                  Yes                   No   \n",
              "2750  No internet service  No internet service  No internet service   \n",
              "852   No internet service  No internet service  No internet service   \n",
              "3452                   No                   No                   No   \n",
              "3328                   No                   No                   No   \n",
              "6161                   No                   No                   No   \n",
              "\n",
              "              StreamingTV      StreamingMovies        Contract  \\\n",
              "1614                   No                  Yes        Two year   \n",
              "1593  No internet service  No internet service  Month-to-month   \n",
              "5133                  Yes                  Yes  Month-to-month   \n",
              "6072  No internet service  No internet service  Month-to-month   \n",
              "6858                   No                  Yes  Month-to-month   \n",
              "2750  No internet service  No internet service        One year   \n",
              "852   No internet service  No internet service  Month-to-month   \n",
              "3452                   No                   No  Month-to-month   \n",
              "3328                   No                   No  Month-to-month   \n",
              "6161                   No                   No  Month-to-month   \n",
              "\n",
              "     PaperlessBilling              PaymentMethod  MonthlyCharges TotalCharges  \\\n",
              "1614              Yes  Bank transfer (automatic)           50.95       3521.7   \n",
              "1593               No               Mailed check           18.85         84.2   \n",
              "5133              Yes           Electronic check          104.25       2433.9   \n",
              "6072               No               Mailed check           18.80       251.25   \n",
              "6858              Yes           Electronic check           89.10       2368.4   \n",
              "2750              Yes               Mailed check           19.45        69.25   \n",
              "852                No               Mailed check           24.85           62   \n",
              "3452              Yes               Mailed check           44.95        44.95   \n",
              "3328              Yes           Electronic check           70.25        70.25   \n",
              "6161               No               Mailed check           74.35        533.6   \n",
              "\n",
              "     Churn  \n",
              "1614    No  \n",
              "1593    No  \n",
              "5133   Yes  \n",
              "6072    No  \n",
              "6858   Yes  \n",
              "2750    No  \n",
              "852     No  \n",
              "3452    No  \n",
              "3328    No  \n",
              "6161    No  "
            ]
          },
          "execution_count": 47,
          "metadata": {},
          "output_type": "execute_result"
        }
      ],
      "source": [
        "df.sample(10)"
      ]
    },
    {
      "cell_type": "code",
      "execution_count": null,
      "metadata": {
        "scrolled": true,
        "id": "lJn0rQwPpsWP",
        "outputId": "fd8ff00f-e126-4746-d020-d62af265714d"
      },
      "outputs": [
        {
          "data": {
            "text/plain": [
              "Month-to-month    3875\n",
              "Two year          1695\n",
              "One year          1473\n",
              "Name: Contract, dtype: int64"
            ]
          },
          "execution_count": 27,
          "metadata": {},
          "output_type": "execute_result"
        }
      ],
      "source": [
        "df.Contract.value_counts()"
      ]
    },
    {
      "cell_type": "code",
      "execution_count": null,
      "metadata": {
        "id": "3pLRosFUpsWR",
        "outputId": "8fde0dd3-af2a-4493-a585-ccdff94d1209"
      },
      "outputs": [
        {
          "data": {
            "text/plain": [
              "No     5174\n",
              "Yes    1869\n",
              "Name: Churn, dtype: int64"
            ]
          },
          "execution_count": 68,
          "metadata": {},
          "output_type": "execute_result"
        }
      ],
      "source": [
        "df.Churn.value_counts()"
      ]
    },
    {
      "cell_type": "code",
      "execution_count": null,
      "metadata": {
        "scrolled": true,
        "id": "cFQWMvenpsWS",
        "outputId": "a130ed20-7d15-4b73-9123-588bdb44eca5"
      },
      "outputs": [
        {
          "data": {
            "text/plain": [
              "count    7043.000000\n",
              "mean       32.371149\n",
              "std        24.559481\n",
              "min         0.000000\n",
              "25%         9.000000\n",
              "50%        29.000000\n",
              "75%        55.000000\n",
              "max        72.000000\n",
              "Name: tenure, dtype: float64"
            ]
          },
          "execution_count": 34,
          "metadata": {},
          "output_type": "execute_result"
        }
      ],
      "source": [
        "df.tenure.describe()"
      ]
    },
    {
      "cell_type": "code",
      "execution_count": null,
      "metadata": {
        "scrolled": false,
        "id": "X4Xfc3q5psWT",
        "outputId": "424540af-7959-4b15-96be-61c92bd933e6"
      },
      "outputs": [
        {
          "data": {
            "image/png": "[encoded data removed]",
            "text/plain": [
              "<Figure size 432x288 with 1 Axes>"
            ]
          },
          "metadata": {
            "needs_background": "light"
          },
          "output_type": "display_data"
        }
      ],
      "source": [
        "# show the distribution of tenure.\n",
        "plt.hist(data = df, x = 'tenure');"
      ]
    },
    {
      "cell_type": "markdown",
      "metadata": {
        "id": "cEDgOazipsWU"
      },
      "source": [
        "> This is not a normal distribution, and with two peaks, which means there are likely two different kinds of groups of people, and either of them love particular services."
      ]
    },
    {
      "cell_type": "code",
      "execution_count": null,
      "metadata": {
        "scrolled": true,
        "id": "TDOlCShQpsWU",
        "outputId": "0028166d-e47c-4b5b-8506-b03edaccd483"
      },
      "outputs": [
        {
          "data": {
            "text/plain": [
              "0"
            ]
          },
          "execution_count": 16,
          "metadata": {},
          "output_type": "execute_result"
        }
      ],
      "source": [
        "df[df.customerID.duplicated()].shape[0]"
      ]
    },
    {
      "cell_type": "code",
      "execution_count": null,
      "metadata": {
        "id": "k7513KX7psWV",
        "outputId": "d69dec10-1107-4966-f0c9-e6520a5af346"
      },
      "outputs": [
        {
          "data": {
            "text/plain": [
              "(682, 21)"
            ]
          },
          "execution_count": 30,
          "metadata": {},
          "output_type": "execute_result"
        }
      ],
      "source": [
        "df.query('PhoneService == \"No\"').shape"
      ]
    },
    {
      "cell_type": "code",
      "execution_count": null,
      "metadata": {
        "id": "WVLVDupSpsWV",
        "outputId": "b8c3f36b-118c-4e45-bd4e-fd5816208fa1"
      },
      "outputs": [
        {
          "data": {
            "text/plain": [
              "(7043, 21)"
            ]
          },
          "execution_count": 4,
          "metadata": {},
          "output_type": "execute_result"
        }
      ],
      "source": [
        "df.shape"
      ]
    },
    {
      "cell_type": "code",
      "execution_count": null,
      "metadata": {
        "id": "2OPSwoqUpsWW",
        "outputId": "3155b1fb-4907-4afa-8599-08b1c5ceae03"
      },
      "outputs": [
        {
          "data": {
            "text/html": [
              "<div>\n",
              "<style scoped>\n",
              "    .dataframe tbody tr th:only-of-type {\n",
              "        vertical-align: middle;\n",
              "    }\n",
              "\n",
              "    .dataframe tbody tr th {\n",
              "        vertical-align: top;\n",
              "    }\n",
              "\n",
              "    .dataframe thead th {\n",
              "        text-align: right;\n",
              "    }\n",
              "</style>\n",
              "<table border=\"1\" class=\"dataframe\">\n",
              "  <thead>\n",
              "    <tr style=\"text-align: right;\">\n",
              "      <th></th>\n",
              "      <th>SeniorCitizen</th>\n",
              "      <th>tenure</th>\n",
              "      <th>MonthlyCharges</th>\n",
              "    </tr>\n",
              "  </thead>\n",
              "  <tbody>\n",
              "    <tr>\n",
              "      <td>count</td>\n",
              "      <td>7043.000000</td>\n",
              "      <td>7043.000000</td>\n",
              "      <td>7043.000000</td>\n",
              "    </tr>\n",
              "    <tr>\n",
              "      <td>mean</td>\n",
              "      <td>0.162147</td>\n",
              "      <td>32.371149</td>\n",
              "      <td>64.761692</td>\n",
              "    </tr>\n",
              "    <tr>\n",
              "      <td>std</td>\n",
              "      <td>0.368612</td>\n",
              "      <td>24.559481</td>\n",
              "      <td>30.090047</td>\n",
              "    </tr>\n",
              "    <tr>\n",
              "      <td>min</td>\n",
              "      <td>0.000000</td>\n",
              "      <td>0.000000</td>\n",
              "      <td>18.250000</td>\n",
              "    </tr>\n",
              "    <tr>\n",
              "      <td>25%</td>\n",
              "      <td>0.000000</td>\n",
              "      <td>9.000000</td>\n",
              "      <td>35.500000</td>\n",
              "    </tr>\n",
              "    <tr>\n",
              "      <td>50%</td>\n",
              "      <td>0.000000</td>\n",
              "      <td>29.000000</td>\n",
              "      <td>70.350000</td>\n",
              "    </tr>\n",
              "    <tr>\n",
              "      <td>75%</td>\n",
              "      <td>0.000000</td>\n",
              "      <td>55.000000</td>\n",
              "      <td>89.850000</td>\n",
              "    </tr>\n",
              "    <tr>\n",
              "      <td>max</td>\n",
              "      <td>1.000000</td>\n",
              "      <td>72.000000</td>\n",
              "      <td>118.750000</td>\n",
              "    </tr>\n",
              "  </tbody>\n",
              "</table>\n",
              "</div>"
            ],
            "text/plain": [
              "       SeniorCitizen       tenure  MonthlyCharges\n",
              "count    7043.000000  7043.000000     7043.000000\n",
              "mean        0.162147    32.371149       64.761692\n",
              "std         0.368612    24.559481       30.090047\n",
              "min         0.000000     0.000000       18.250000\n",
              "25%         0.000000     9.000000       35.500000\n",
              "50%         0.000000    29.000000       70.350000\n",
              "75%         0.000000    55.000000       89.850000\n",
              "max         1.000000    72.000000      118.750000"
            ]
          },
          "execution_count": 5,
          "metadata": {},
          "output_type": "execute_result"
        }
      ],
      "source": [
        "df.describe()"
      ]
    },
    {
      "cell_type": "code",
      "execution_count": null,
      "metadata": {
        "scrolled": true,
        "id": "ElacdOHMpsWX",
        "outputId": "70585b94-1057-4b27-d031-4b0551344425"
      },
      "outputs": [
        {
          "name": "stdout",
          "output_type": "stream",
          "text": [
            "<class 'pandas.core.frame.DataFrame'>\n",
            "RangeIndex: 7043 entries, 0 to 7042\n",
            "Data columns (total 21 columns):\n",
            "customerID          7043 non-null object\n",
            "gender              7043 non-null object\n",
            "SeniorCitizen       7043 non-null int64\n",
            "Partner             7043 non-null object\n",
            "Dependents          7043 non-null object\n",
            "tenure              7043 non-null int64\n",
            "PhoneService        7043 non-null object\n",
            "MultipleLines       7043 non-null object\n",
            "InternetService     7043 non-null object\n",
            "OnlineSecurity      7043 non-null object\n",
            "OnlineBackup        7043 non-null object\n",
            "DeviceProtection    7043 non-null object\n",
            "TechSupport         7043 non-null object\n",
            "StreamingTV         7043 non-null object\n",
            "StreamingMovies     7043 non-null object\n",
            "Contract            7043 non-null object\n",
            "PaperlessBilling    7043 non-null object\n",
            "PaymentMethod       7043 non-null object\n",
            "MonthlyCharges      7043 non-null float64\n",
            "TotalCharges        7043 non-null object\n",
            "Churn               7043 non-null object\n",
            "dtypes: float64(1), int64(2), object(18)\n",
            "memory usage: 1.1+ MB\n"
          ]
        }
      ],
      "source": [
        "# no missing value\n",
        "df.info()"
      ]
    },
    {
      "cell_type": "code",
      "execution_count": null,
      "metadata": {
        "id": "TxRc8M8upsWX",
        "outputId": "4182096d-0a0f-4e84-dcd9-ca975645cfeb"
      },
      "outputs": [
        {
          "data": {
            "text/plain": [
              "0"
            ]
          },
          "execution_count": 7,
          "metadata": {},
          "output_type": "execute_result"
        }
      ],
      "source": [
        "df[df.duplicated()].shape[0]"
      ]
    },
    {
      "cell_type": "markdown",
      "metadata": {
        "id": "wuUeI0R9psWY"
      },
      "source": [
        "### Assessment report:\n",
        "\n",
        "**Quality issues**\n",
        "\n",
        "- The data type of \"TotalCharges\" should be float64 instead of object\n",
        "- Many rows of total charges do not equal each tenues times monthly charges\n"
      ]
    },
    {
      "cell_type": "markdown",
      "metadata": {
        "id": "YWN9MQKPpsWY"
      },
      "source": [
        "### Data Cleaning"
      ]
    },
    {
      "cell_type": "code",
      "execution_count": null,
      "metadata": {
        "id": "OSaJeKmCpsWY"
      },
      "outputs": [],
      "source": [
        "df_copy = df.copy()"
      ]
    },
    {
      "cell_type": "markdown",
      "metadata": {
        "id": "Iki13F0gpsWZ"
      },
      "source": [
        "**Issue: The data type of \"TotalCharges\" should be float64 instead of object**"
      ]
    },
    {
      "cell_type": "markdown",
      "metadata": {
        "id": "ptdn78ropsWZ"
      },
      "source": [
        "**Define: give None value to all row, and then convert it to data type of float64**"
      ]
    },
    {
      "cell_type": "markdown",
      "metadata": {
        "id": "mGZQZ-jFpsWa"
      },
      "source": [
        "#### Code"
      ]
    },
    {
      "cell_type": "code",
      "execution_count": null,
      "metadata": {
        "id": "EkE5bHhtpsWa"
      },
      "outputs": [],
      "source": [
        "df_copy.TotalCharges = None\n",
        "df_copy.TotalCharges=df_copy.TotalCharges.astype(float)"
      ]
    },
    {
      "cell_type": "markdown",
      "metadata": {
        "id": "hC0OqnUupsWa"
      },
      "source": [
        "#### Test"
      ]
    },
    {
      "cell_type": "code",
      "execution_count": null,
      "metadata": {
        "id": "HhX7w2NlpsWb",
        "outputId": "1bb7b63d-7311-48b7-858e-582b33e4ee1f"
      },
      "outputs": [
        {
          "data": {
            "text/plain": [
              "dtype('float64')"
            ]
          },
          "execution_count": 55,
          "metadata": {},
          "output_type": "execute_result"
        }
      ],
      "source": [
        "df_copy.TotalCharges.dtype"
      ]
    },
    {
      "cell_type": "markdown",
      "metadata": {
        "id": "bwOtEdpspsWb"
      },
      "source": [
        "**Issue: Many rows of total charges do not equal each tenures times monthly charges**"
      ]
    },
    {
      "cell_type": "markdown",
      "metadata": {
        "id": "pAQGEn2qpsWb"
      },
      "source": [
        "**Define: give them the values of each tenures times monthly charges**"
      ]
    },
    {
      "cell_type": "markdown",
      "metadata": {
        "id": "0yIgIJMqpsWh"
      },
      "source": [
        "#### Code"
      ]
    },
    {
      "cell_type": "code",
      "execution_count": null,
      "metadata": {
        "id": "efEk2BiTpsWh"
      },
      "outputs": [],
      "source": [
        "df_copy.TotalCharges = df_copy.tenure * df_copy.MonthlyCharges"
      ]
    },
    {
      "cell_type": "markdown",
      "metadata": {
        "id": "Egy9aOfzpsWi"
      },
      "source": [
        "#### Test"
      ]
    },
    {
      "cell_type": "code",
      "execution_count": null,
      "metadata": {
        "id": "1sjcbGP5psWi",
        "outputId": "8d1412dc-0b2c-461e-be75-8d867c10f1da"
      },
      "outputs": [
        {
          "data": {
            "text/plain": [
              "(0, 21)"
            ]
          },
          "execution_count": 60,
          "metadata": {},
          "output_type": "execute_result"
        }
      ],
      "source": [
        "df_copy[df_copy.tenure * df_copy.MonthlyCharges != df_copy.TotalCharges].shape"
      ]
    },
    {
      "cell_type": "markdown",
      "metadata": {
        "id": "Q5LR2RZLpsWi"
      },
      "source": [
        "### Final step of Wrangling: Store data"
      ]
    },
    {
      "cell_type": "code",
      "execution_count": null,
      "metadata": {
        "id": "AZk0JXzfpsWj"
      },
      "outputs": [],
      "source": [
        "# store the clean data\n",
        "df_copy.reset_index(drop=True)\n",
        "df_copy.to_csv('Telco-Customer-Churn_clean.csv')"
      ]
    },
    {
      "cell_type": "code",
      "execution_count": null,
      "metadata": {
        "id": "lL41Qw3CpsWj"
      },
      "outputs": [],
      "source": [
        "#load data\n",
        "clean_df = pd.read_csv('Telco-Customer-Churn_clean.csv')"
      ]
    },
    {
      "cell_type": "markdown",
      "metadata": {
        "id": "zo_sSqGbpsW-"
      },
      "source": [
        "## Exploratory Data Analysis"
      ]
    },
    {
      "cell_type": "markdown",
      "metadata": {
        "id": "mVsmg28vpsW_"
      },
      "source": [
        "> Build Visualization Function: desc()"
      ]
    },
    {
      "cell_type": "code",
      "execution_count": null,
      "metadata": {
        "id": "cBZshpx9psXA"
      },
      "outputs": [],
      "source": [
        "def desc(title=None, xscale=None, yscale=None, xlabel=None, ylabel=None, xlim=None, ylim=None, xticks1=None, xticks2=None, yticks1=None, yticks2=None,legend_title=None, legend_labels=None):\n",
        "    if title:\n",
        "        plt.title(title);\n",
        "    if xscale:\n",
        "        plt.xscale(xscale);\n",
        "    if yscale:\n",
        "        plt.yscale(yscale);\n",
        "    if xlabel:\n",
        "        plt.xlabel(xlabel);\n",
        "    if ylabel:\n",
        "        plt.ylabel(ylabel);\n",
        "    if xlim:\n",
        "        plt.xlim(xlim);\n",
        "    if ylim:\n",
        "        plt.ylim(ylim);\n",
        "    if xticks1:\n",
        "        plt.xticks(xticks1, xticks2);\n",
        "    if yticks1:\n",
        "        plt.yticks(yticks1, yticks2);\n",
        "    if legend_title:\n",
        "        plt.legend(title=legend_title);\n",
        "        if legend_labels:\n",
        "            plt.legend(title=legend_title, labels=legend_labels);"
      ]
    },
    {
      "cell_type": "code",
      "execution_count": null,
      "metadata": {
        "scrolled": true,
        "id": "eSDoqQuppsXA",
        "outputId": "d7be60bb-954d-4bbf-d1be-6ed94df65b5d"
      },
      "outputs": [
        {
          "data": {
            "text/plain": [
              "count    7043.000000\n",
              "mean     2279.581350\n",
              "std      2264.729447\n",
              "min         0.000000\n",
              "25%       394.000000\n",
              "50%      1393.600000\n",
              "75%      3786.100000\n",
              "max      8550.000000\n",
              "Name: TotalCharges, dtype: float64"
            ]
          },
          "execution_count": 9,
          "metadata": {},
          "output_type": "execute_result"
        }
      ],
      "source": [
        "# Examine the distribution of TotalCharges\n",
        "clean_df.TotalCharges.describe()"
      ]
    },
    {
      "cell_type": "code",
      "execution_count": null,
      "metadata": {
        "scrolled": true,
        "id": "GYzGxaKupsXB",
        "outputId": "fb986f19-50ed-4db3-b479-b761ebbb57d1"
      },
      "outputs": [
        {
          "data": {
            "image/png": "[encoded data removed]",
            "text/plain": [
              "<Figure size 432x288 with 1 Axes>"
            ]
          },
          "metadata": {
            "needs_background": "light"
          },
          "output_type": "display_data"
        }
      ],
      "source": [
        "# Examine the distribution of TotalCharges\n",
        "plt.hist(data = clean_df, x = 'TotalCharges');"
      ]
    },
    {
      "cell_type": "markdown",
      "metadata": {
        "id": "1q_5vPA9psXC"
      },
      "source": [
        "## Research Question 1: For those who unsubscribed the service, what was their average LTV(Life Time Value)? and how long did they usually stay in the service?"
      ]
    },
    {
      "cell_type": "code",
      "execution_count": null,
      "metadata": {
        "id": "fWY4IEH5psXC"
      },
      "outputs": [],
      "source": [
        "# Extract those who unsubscribed the service\n",
        "Churn_df = clean_df.query('Churn==\"Yes\"')"
      ]
    },
    {
      "cell_type": "code",
      "execution_count": null,
      "metadata": {
        "scrolled": true,
        "id": "jd1DknA3psXD",
        "outputId": "833e796e-cf17-4d73-9584-9945cb95ccb3"
      },
      "outputs": [
        {
          "data": {
            "text/plain": [
              "count    1869.000000\n",
              "mean     1531.608828\n",
              "std      1886.774930\n",
              "min        18.850000\n",
              "25%       137.900000\n",
              "50%       700.000000\n",
              "75%      2334.800000\n",
              "max      8481.600000\n",
              "Name: TotalCharges, dtype: float64"
            ]
          },
          "execution_count": 12,
          "metadata": {},
          "output_type": "execute_result"
        }
      ],
      "source": [
        "# Examnie the distribution of tenure\n",
        "Churn_df.TotalCharges.describe()"
      ]
    },
    {
      "cell_type": "code",
      "execution_count": null,
      "metadata": {
        "scrolled": false,
        "id": "0CPgKIwnpsXD",
        "outputId": "e2b941ce-e10e-4ccb-c9b1-b1c26ca6ef93"
      },
      "outputs": [
        {
          "data": {
            "image/png": "[encoded data removed]",
            "text/plain": [
              "<Figure size 432x288 with 1 Axes>"
            ]
          },
          "metadata": {
            "needs_background": "light"
          },
          "output_type": "display_data"
        }
      ],
      "source": [
        "# Visualize\n",
        "plt.hist(data = Churn_df, x = 'TotalCharges');"
      ]
    },
    {
      "cell_type": "markdown",
      "metadata": {
        "id": "g-fBTkoqpsXE"
      },
      "source": [
        "> I found that around 20% of the data are extremely high, so I decided to divide them to see each distribution of data."
      ]
    },
    {
      "cell_type": "code",
      "execution_count": null,
      "metadata": {
        "scrolled": true,
        "id": "mMZ9EsGupsXE",
        "outputId": "728b30f7-4877-4d4a-88ab-1ea5ae7bfaa9"
      },
      "outputs": [
        {
          "data": {
            "text/plain": [
              "2827.5900000000006"
            ]
          },
          "execution_count": 14,
          "metadata": {},
          "output_type": "execute_result"
        }
      ],
      "source": [
        "#find the 80th percentile of the data in total charges\n",
        "Churn_df.TotalCharges.quantile(0.8)"
      ]
    },
    {
      "cell_type": "code",
      "execution_count": null,
      "metadata": {
        "scrolled": true,
        "id": "2_qyXFmIpsXF",
        "outputId": "98944d8f-4f6d-42b3-e1d9-37cfff796ab0"
      },
      "outputs": [
        {
          "data": {
            "text/plain": [
              "count    1495.000000\n",
              "mean      713.561672\n",
              "std       769.669864\n",
              "min        18.850000\n",
              "25%        85.900000\n",
              "50%       377.600000\n",
              "75%      1132.575000\n",
              "max      2825.650000\n",
              "Name: TotalCharges, dtype: float64"
            ]
          },
          "execution_count": 15,
          "metadata": {},
          "output_type": "execute_result"
        }
      ],
      "source": [
        "# Divide the data by the 80th percentile of the data, and show the distribution of its TotalCharges under 80th percentile\n",
        "TotalCharges_under80 = Churn_df.query('TotalCharges<=2827.59')\n",
        "TotalCharges_above80 = Churn_df.query('TotalCharges>2827.59')\n",
        "TotalCharges_under80.TotalCharges.describe()"
      ]
    },
    {
      "cell_type": "code",
      "execution_count": null,
      "metadata": {
        "id": "jw0SLF40psXF",
        "outputId": "4778d97c-0799-4a09-c31e-dc7c8c38af0e"
      },
      "outputs": [
        {
          "data": {
            "text/plain": [
              "count     374.000000\n",
              "mean     4801.610160\n",
              "std      1432.384076\n",
              "min      2830.500000\n",
              "25%      3523.275000\n",
              "50%      4607.300000\n",
              "75%      5863.450000\n",
              "max      8481.600000\n",
              "Name: TotalCharges, dtype: float64"
            ]
          },
          "execution_count": 16,
          "metadata": {},
          "output_type": "execute_result"
        }
      ],
      "source": [
        "#show the distribution of its TotalCharges above 80th percentile\n",
        "TotalCharges_above80.TotalCharges.describe()"
      ]
    },
    {
      "cell_type": "code",
      "execution_count": null,
      "metadata": {
        "scrolled": true,
        "id": "dp7Nf84gpsXG",
        "outputId": "e7579a7d-014a-4554-ad71-cca564af4ecb"
      },
      "outputs": [
        {
          "data": {
            "text/plain": [
              "count    1495.000000\n",
              "mean        9.933110\n",
              "std        10.738504\n",
              "min         1.000000\n",
              "25%         1.000000\n",
              "50%         6.000000\n",
              "75%        15.000000\n",
              "max        61.000000\n",
              "Name: tenure, dtype: float64"
            ]
          },
          "execution_count": 17,
          "metadata": {},
          "output_type": "execute_result"
        }
      ],
      "source": [
        "#show the distribution of its tenure under 80th percentile\n",
        "TotalCharges_under80.tenure.describe()"
      ]
    },
    {
      "cell_type": "code",
      "execution_count": null,
      "metadata": {
        "scrolled": true,
        "id": "J6awwpzqpsXG",
        "outputId": "e615a51f-087b-4d62-c4e4-6b7feb08f7f1"
      },
      "outputs": [
        {
          "data": {
            "text/plain": [
              "count    374.000000\n",
              "mean      50.141711\n",
              "std       12.322030\n",
              "min       28.000000\n",
              "25%       40.000000\n",
              "50%       49.500000\n",
              "75%       60.000000\n",
              "max       72.000000\n",
              "Name: tenure, dtype: float64"
            ]
          },
          "execution_count": 18,
          "metadata": {},
          "output_type": "execute_result"
        }
      ],
      "source": [
        "#show the distribution of its tenure above 80th percentile\n",
        "TotalCharges_above80.tenure.describe()"
      ]
    },
    {
      "cell_type": "code",
      "execution_count": null,
      "metadata": {
        "id": "bbXRxtD-psXH",
        "outputId": "6e704e5b-8162-4f34-ab15-e6fd7eae5d21"
      },
      "outputs": [
        {
          "data": {
            "image/png": "[encoded data removed]",
            "text/plain": [
              "<Figure size 1080x360 with 2 Axes>"
            ]
          },
          "metadata": {
            "needs_background": "light"
          },
          "output_type": "display_data"
        }
      ],
      "source": [
        "# Visualize both\n",
        "plt.figure(figsize = [15, 5])\n",
        "# left plot: LTV by above and under 80th percentile of data who unsubscribed\n",
        "plt.subplot(1, 2, 1)\n",
        "plt.bar([1, 2], [713, 4801])\n",
        "desc(yticks1=range(0,5250,250), yticks2=range(0,5250,250), xticks1=[1,2],xticks2=['80%(Low LTV)', '20%(High LTV)'],ylabel='LTV(dollars)',xlabel='Customers who unsubscribed', title='LTV(Life Time Value) by 80/20% of those who unsubscribed')\n",
        "\n",
        "# # right plot: Tenure by above and under 80th percentile of data who unsubscribed\n",
        "plt.subplot(1, 2, 2)\n",
        "plt.bar([1, 2], [9, 50])\n",
        "desc(xticks1=[1,2],xticks2=['80%(Low LTV)', '20%(High LTV)'],ylabel='tenure(months)',xlabel='Customers who unsubscribed', title='Tenure(month) by 80/20% of those who unsubscribed')"
      ]
    },
    {
      "cell_type": "markdown",
      "metadata": {
        "id": "sA6WRnZBpsXH"
      },
      "source": [
        "> Note: The average LTV of 80% of those who unsubscribed is 750 dollars, and its tenures is near 10 months. On the other hand, the average LTV of top 20% of those who unsubscribed is 4750 dollars, and its tenures is near 50 months. And the ratio by the sum of total LTV by each groups is 750*4 : 4750 = 1 : 1.6, which suggests we should focus on serving those 20% customers with high LTV, which brought 60%(1.6/2.6) of our revennue."
      ]
    },
    {
      "cell_type": "markdown",
      "metadata": {
        "id": "LqR8cCQtpsXI"
      },
      "source": [
        "## Research Question 2: Relating to Question 1, what kinds of service they subscribed when they were still staying in subscription?\n",
        "\n",
        "> Note: Because I just found that there is a big difference in LTV and tenures between 80/20% of those who unsubscribed, so I decided to investigate this question in both 80/20% groups."
      ]
    },
    {
      "cell_type": "code",
      "execution_count": null,
      "metadata": {
        "scrolled": true,
        "id": "PCrQKFd2psXI"
      },
      "outputs": [],
      "source": [
        "# Extract 80% with low LTV who used the internet service, and save each proportion of subsets of internet service\n",
        "#in the variable \"proportion_internet_sub_service\"\n",
        "TotalCharges_under80_use_internet = TotalCharges_under80.query('InternetService!=\"No\"')\n",
        "proportion_internet_sub_service = np.array([TotalCharges_under80_use_internet.query('OnlineSecurity==\"Yes\"').shape[0]/TotalCharges_under80_use_internet.shape[0],\n",
        "TotalCharges_under80_use_internet.query('TechSupport==\"Yes\"').shape[0]/TotalCharges_under80_use_internet.shape[0],\n",
        "TotalCharges_under80_use_internet.query('OnlineBackup==\"Yes\"').shape[0]/TotalCharges_under80_use_internet.shape[0],\n",
        "TotalCharges_under80_use_internet.query('DeviceProtection==\"Yes\"').shape[0]/TotalCharges_under80_use_internet.shape[0],\n",
        "TotalCharges_under80_use_internet.query('StreamingTV==\"Yes\"').shape[0]/TotalCharges_under80_use_internet.shape[0],\n",
        "TotalCharges_under80_use_internet.query('StreamingMovies==\"Yes\"').shape[0]/TotalCharges_under80_use_internet.shape[0]])*100"
      ]
    },
    {
      "cell_type": "code",
      "execution_count": null,
      "metadata": {
        "scrolled": true,
        "id": "DtqdsF67psXJ"
      },
      "outputs": [],
      "source": [
        "# Extract 20% with high LTV who used the internet service, and save each proportion of subsets of internet service\n",
        "#in the variable \"proportion_internet_sub_service_above80\"\n",
        "TotalCharges_above80_use_internet = TotalCharges_above80.query('InternetService!=\"No\"')\n",
        "proportion_internet_sub_service_above80 = np.array([TotalCharges_above80_use_internet.query('OnlineSecurity==\"Yes\"').shape[0]/TotalCharges_above80_use_internet.shape[0],\n",
        "TotalCharges_above80_use_internet.query('TechSupport==\"Yes\"').shape[0]/TotalCharges_above80_use_internet.shape[0],\n",
        "TotalCharges_above80_use_internet.query('OnlineBackup==\"Yes\"').shape[0]/TotalCharges_above80_use_internet.shape[0],\n",
        "TotalCharges_above80_use_internet.query('DeviceProtection==\"Yes\"').shape[0]/TotalCharges_above80_use_internet.shape[0],\n",
        "TotalCharges_above80_use_internet.query('StreamingTV==\"Yes\"').shape[0]/TotalCharges_above80_use_internet.shape[0],\n",
        "TotalCharges_above80_use_internet.query('StreamingMovies==\"Yes\"').shape[0]/TotalCharges_above80_use_internet.shape[0]])*100"
      ]
    },
    {
      "cell_type": "code",
      "execution_count": null,
      "metadata": {
        "scrolled": true,
        "id": "FC6cM3hxpsXJ",
        "outputId": "c25213ac-053c-4502-ac5f-e6858147c2d8"
      },
      "outputs": [
        {
          "data": {
            "image/png": "[encoded data removed]",
            "text/plain": [
              "<Figure size 720x432 with 2 Axes>"
            ]
          },
          "metadata": {
            "needs_background": "light"
          },
          "output_type": "display_data"
        }
      ],
      "source": [
        "# Investigate the proportion of people used phone service by each groups\n",
        "plt.figure(figsize = [10, 6])\n",
        "\n",
        "plt.subplot(2, 1, 1)\n",
        "# Group 1: 80%(low LTV) of data\n",
        "((TotalCharges_under80.PhoneService.value_counts()/TotalCharges_under80.shape[0])*100).plot.barh();\n",
        "desc(title=\"Propotion of whether people used phone service in 80%(low LTV) of data\", xlabel=\"%\",xticks1=range(0,110,10),xticks2=range(0,110,10))\n",
        "\n",
        "plt.subplot(2, 1, 2)\n",
        "# Group 2: 20%(high LTV) of data\n",
        "((TotalCharges_above80.PhoneService.value_counts()/TotalCharges_above80.shape[0])*100).plot.barh();\n",
        "desc(title=\"Proportion of whether people used phone service in 20%(high LTV) of data\", xlabel=\"%\",xticks1=range(0,110,10),xticks2=range(0,110,10))\n",
        "plt.tight_layout()"
      ]
    },
    {
      "cell_type": "markdown",
      "metadata": {
        "id": "Gw_CvLwapsXK"
      },
      "source": [
        "> Note: 20%(high LTV) of data has only 2% who didn't use the phone service. On the other hand, 80%(low LTV) of data has 11% who didn't use the phone service, which is 5 times as much as the phone service proportion of 20%(high LTV) of data."
      ]
    },
    {
      "cell_type": "code",
      "execution_count": null,
      "metadata": {
        "scrolled": true,
        "id": "LHCaSftipsXK",
        "outputId": "4d905619-4c46-40e3-877f-cd0a20dab13c"
      },
      "outputs": [
        {
          "data": {
            "image/png": "[encoded data removed]",
            "text/plain": [
              "<Figure size 720x432 with 2 Axes>"
            ]
          },
          "metadata": {
            "needs_background": "light"
          },
          "output_type": "display_data"
        }
      ],
      "source": [
        "# Investigate the proportion of people who used phone service with muiltple lines by each groups\n",
        "plt.figure(figsize = [10, 6])\n",
        "\n",
        "plt.subplot(2, 1, 1)\n",
        "# Group 1: 80%(low LTV) of data\n",
        "TotalCharges_under80_use_phone = TotalCharges_under80.query('PhoneService==\"Yes\"')\n",
        "(((TotalCharges_under80_use_phone.MultipleLines.value_counts()/TotalCharges_under80_use_phone.shape[0]).sort_values(ascending=True))*100).plot.barh();\n",
        "desc(title=\"Proportion of whether people used MultipleLines in 80%(low LTV) of data with Phone Service\", xlabel=\"%\",xticks1=range(0,100,10),xticks2=range(0,100,10));\n",
        "\n",
        "plt.subplot(2, 1, 2)\n",
        "# Group 2: 20%(high LTV) of data\n",
        "TotalCharges_above80_use_phone = TotalCharges_above80.query('PhoneService==\"Yes\"')\n",
        "((TotalCharges_above80_use_phone.MultipleLines.value_counts()/TotalCharges_above80_use_phone.shape[0])*100).plot.barh();\n",
        "desc(title=\"Proportion of whether people used MultipleLines in 20%(high LTV) of data with Phone Service\", xlabel=\"%\",xticks1=range(0,100,10),xticks2=range(0,100,10));\n",
        "\n",
        "plt.tight_layout()"
      ]
    },
    {
      "cell_type": "markdown",
      "metadata": {
        "id": "C5-x9rirpsXL"
      },
      "source": [
        "> Note: 20%(high LTV) of data of those who used phone service has 84% used multiple lines, which is 2 times as much as the proportion of multiple lines in 80%(low LTV) of data of those who used phone service."
      ]
    },
    {
      "cell_type": "code",
      "execution_count": null,
      "metadata": {
        "id": "QpUZHzyspsXM",
        "outputId": "c33bb1d6-e072-4218-d3ac-cd695047697b"
      },
      "outputs": [
        {
          "data": {
            "image/png": "[encoded data removed]",
            "text/plain": [
              "<Figure size 720x432 with 2 Axes>"
            ]
          },
          "metadata": {
            "needs_background": "light"
          },
          "output_type": "display_data"
        }
      ],
      "source": [
        "# Investigate proportion of people who used the internet service by each goups\n",
        "plt.figure(figsize = [10, 6])\n",
        "\n",
        "plt.subplot(2, 1, 1)\n",
        "# Group 1: 80%(low LTV) of data\n",
        "((TotalCharges_under80.InternetService.value_counts()/TotalCharges_under80.shape[0])*100).plot.barh();\n",
        "desc(title=\"Proportion of people used the internet service in 80%(low LTV) of data\", xlabel=\"%\",xticks1=range(0,110,10),xticks2=range(0,110,10));\n",
        "\n",
        "plt.subplot(2, 1, 2)\n",
        "# Group 2: 20%(high LTV) of data\n",
        "((TotalCharges_above80.InternetService.value_counts()/TotalCharges_above80.shape[0])*100).plot.barh();\n",
        "desc(title=\"Proportion of people used the internet service in 20%(high LTV) of data\", xlabel=\"%\",xticks1=range(0,110,10),xticks2=range(0,110,10));\n",
        "\n",
        "plt.tight_layout()"
      ]
    },
    {
      "cell_type": "markdown",
      "metadata": {
        "id": "qAYpK-hApsXN"
      },
      "source": [
        "> Note: I found all of those with high LTV all used internet service. On the other hand, the 80% of those with low LTV has 8% did not use internet service. And, in 20%(high LTV) of data , there is 90% of people used fiber optic as their internet service."
      ]
    },
    {
      "cell_type": "code",
      "execution_count": null,
      "metadata": {
        "id": "g0i7gl97psXN",
        "outputId": "82f04f66-7370-40c7-a1f7-907199665c74"
      },
      "outputs": [
        {
          "data": {
            "image/png": "[encoded data removed]",
            "text/plain": [
              "<Figure size 864x432 with 2 Axes>"
            ]
          },
          "metadata": {
            "needs_background": "light"
          },
          "output_type": "display_data"
        }
      ],
      "source": [
        "# Investigate the Proportion by subset of internet service by each groups\n",
        "plt.figure(figsize = [12, 6])\n",
        "\n",
        "plt.subplot(2, 1, 1)\n",
        "# Group 1: 80%(low LTV) of data\n",
        "plt.barh(range(0,6), proportion_internet_sub_service)\n",
        "desc(title='Proportion of subset of internet service in 80%(low LTV) data with internet service',xlabel=\"%\",yticks1=range(0,6),yticks2=['OnlineSecurity','TechSupport','OnlineBackup','DeviceProtection','StreamingTV','StreamingMovies'],xticks1=range(0,100,10),xticks2=range(0,100,10))\n",
        "plt.subplot(2, 1, 2)\n",
        "# Group 2: 20%(high LTV) of data\n",
        "plt.barh(range(0,6), proportion_internet_sub_service_above80)\n",
        "desc(title='Proportion of subset of internet service in 20%(high LTV) data with internet service',xlabel=\"%\",yticks1=range(0,6),yticks2=['OnlineSecurity','TechSupport','OnlineBackup','DeviceProtection','StreamingTV','StreamingMovies'],xticks1=range(0,100,10),xticks2=range(0,100,10))\n",
        "plt.tight_layout()"
      ]
    },
    {
      "cell_type": "markdown",
      "metadata": {
        "id": "5TWlPzRMpsXP"
      },
      "source": [
        "> Note:\n",
        "1. The proportion of streaming movies and streaming tv service in 20%(high LTV) of data are both near 80%, which is 2 times as much as the corresponded proportion in 80%(low LTV) of data.\n",
        "2. The proportion of device protection and online backup service are both near 58%, which is 2.5-3 times as much as the corresponded proportion in 80%(low LTV) of data.\n",
        "3. The proportion of tech support and online security service are both near 31%, which is near 2.5-3 times as much as the corresponded proportion in 80%(low LTV) of data."
      ]
    },
    {
      "cell_type": "markdown",
      "metadata": {
        "id": "qZUpOu3ppsXR"
      },
      "source": [
        "## Research Question 3: For those who are still paying the service, what was their average LTV(Life Time Value)? and how long did they usually stay in the service?"
      ]
    },
    {
      "cell_type": "code",
      "execution_count": null,
      "metadata": {
        "id": "nIAkRguWpsXS"
      },
      "outputs": [],
      "source": [
        "# Extract those who are paying the service\n",
        "paying_df = clean_df.query('Churn==\"No\"')"
      ]
    },
    {
      "cell_type": "code",
      "execution_count": null,
      "metadata": {
        "id": "703L3JiypsXT",
        "outputId": "99b9f688-49f7-4f36-a34d-f30492c4b8c8"
      },
      "outputs": [
        {
          "data": {
            "text/plain": [
              "count    5174.000000\n",
              "mean     2549.770883\n",
              "std      2328.399619\n",
              "min         0.000000\n",
              "25%       574.562500\n",
              "50%      1687.125000\n",
              "75%      4244.812500\n",
              "max      8550.000000\n",
              "Name: TotalCharges, dtype: float64"
            ]
          },
          "execution_count": 134,
          "metadata": {},
          "output_type": "execute_result"
        }
      ],
      "source": [
        "paying_df.TotalCharges.describe()"
      ]
    },
    {
      "cell_type": "code",
      "execution_count": null,
      "metadata": {
        "scrolled": true,
        "id": "QOyX25ATpsXT",
        "outputId": "85d7a06b-bf2e-42ac-ed21-ff1921dd2175"
      },
      "outputs": [
        {
          "data": {
            "image/png": "[encoded data removed]",
            "text/plain": [
              "<Figure size 432x288 with 1 Axes>"
            ]
          },
          "metadata": {
            "needs_background": "light"
          },
          "output_type": "display_data"
        }
      ],
      "source": [
        "# Visualize\n",
        "plt.hist(data = paying_df, x = 'TotalCharges');"
      ]
    },
    {
      "cell_type": "markdown",
      "metadata": {
        "id": "ZuZfjWy7psXU"
      },
      "source": [
        "> Note: In order to equally invesetigate data, I decided to divide the data into 80/20% as last two questions"
      ]
    },
    {
      "cell_type": "code",
      "execution_count": null,
      "metadata": {
        "id": "yUGkVOoqpsXU",
        "outputId": "138717ba-d754-45f3-b91c-853910c896bd"
      },
      "outputs": [
        {
          "data": {
            "text/plain": [
              "4890.720000000001"
            ]
          },
          "execution_count": 136,
          "metadata": {},
          "output_type": "execute_result"
        }
      ],
      "source": [
        "#find the 80th percentile of the data in total charges\n",
        "paying_df.TotalCharges.quantile(0.8)"
      ]
    },
    {
      "cell_type": "code",
      "execution_count": null,
      "metadata": {
        "id": "71GYiPOQpsXV"
      },
      "outputs": [],
      "source": [
        "paying_TotalCharges_under80."
      ]
    },
    {
      "cell_type": "code",
      "execution_count": null,
      "metadata": {
        "id": "cyauA1e-psXV",
        "outputId": "eaa2cff2-4cb2-4026-a4ed-d946bdeb9a3c"
      },
      "outputs": [
        {
          "data": {
            "text/plain": [
              "(1589.5728195216232, 6389.635410628021)"
            ]
          },
          "execution_count": 303,
          "metadata": {},
          "output_type": "execute_result"
        }
      ],
      "source": [
        "# Divide the data by the 80th percentile of the data, and show the distribution of its TotalCharges under 80th percentile\n",
        "paying_TotalCharges_under80 = paying_df.query('TotalCharges<=4890')\n",
        "paying_TotalCharges_above80 = paying_df.query('TotalCharges>4890')\n",
        "paying_TotalCharges_under80.TotalCharges.mean(),paying_TotalCharges_above80.TotalCharges.mean()"
      ]
    },
    {
      "cell_type": "code",
      "execution_count": null,
      "metadata": {
        "scrolled": true,
        "id": "Ri0YuCMUpsXV",
        "outputId": "b4e703d0-fe16-450a-eb8e-eb339bd6b292"
      },
      "outputs": [
        {
          "data": {
            "text/plain": [
              "(30.60207779656922, 65.43478260869566)"
            ]
          },
          "execution_count": 140,
          "metadata": {},
          "output_type": "execute_result"
        }
      ],
      "source": [
        "paying_TotalCharges_under80.tenure.mean(),paying_TotalCharges_above80.tenure.mean()"
      ]
    },
    {
      "cell_type": "code",
      "execution_count": null,
      "metadata": {
        "scrolled": true,
        "id": "CNEv2Ii_psXW",
        "outputId": "0b04c5f2-6317-4d05-dcd5-c17c811ed7aa"
      },
      "outputs": [
        {
          "data": {
            "image/png": "[encoded data removed]",
            "text/plain": [
              "<Figure size 1080x360 with 2 Axes>"
            ]
          },
          "metadata": {
            "needs_background": "light"
          },
          "output_type": "display_data"
        }
      ],
      "source": [
        "# Visualize both\n",
        "plt.figure(figsize = [15, 5])\n",
        "# left plot: LTV by above and under 80th percentile of data who are still paying the service\n",
        "plt.subplot(1, 2, 1)\n",
        "plt.bar([1, 2], [1589, 6389])\n",
        "desc(yticks1=range(0,7000,500), yticks2=range(0,7000,500), xticks1=[1,2],xticks2=['80%(Low LTV)', '20%(High LTV)'],ylabel='LTV(dollars)',xlabel='Current Customers', title='LTV(Life Time Value) by 80/20% of those who are still paying the service')\n",
        "\n",
        "# # right plot: Tenure by above and under 80th percentile of data who are still paying the service\n",
        "plt.subplot(1, 2, 2)\n",
        "plt.bar([1, 2], [30, 65])\n",
        "desc(yticks1=range(0,70,5), yticks2=range(0,70,5), xticks1=[1,2],xticks2=['80%(Low LTV)', '20%(High LTV)'],ylabel='tenure(months)',xlabel='Current Customers', title='Tenure(month) by 80/20% of those who are still paying the service')"
      ]
    },
    {
      "cell_type": "markdown",
      "metadata": {
        "id": "z0zqgyrapsXW"
      },
      "source": [
        "> Note:  The mean LTV in 80%(low LTV) of data is 1589, and the one in 20%(high LTV) of data is 6389. The mean tenures in 80%(low LTV) of data is 30, and the one in 20%(high LTV) of data is 65. And the ratio by the sum of total LTV by each groups is 1590*4 : 6389 = 1 : 1, which suggests we should focus on serving those 20% customers with high LTV, which brought 50%(1/2) of our revenue."
      ]
    },
    {
      "cell_type": "markdown",
      "metadata": {
        "id": "X4BncNBCpsXX"
      },
      "source": [
        "## Research Question 4: Relating to Question 3, what are the proportions of each kinds of service they are paying?\n",
        "\n",
        "> Note: Because There is a big difference in LTV and tenures between 80/20% of data of current customers, so I decided to investigate this question in both 80/20% groups."
      ]
    },
    {
      "cell_type": "code",
      "execution_count": null,
      "metadata": {
        "id": "Gv2FkJ3KpsXX"
      },
      "outputs": [],
      "source": [
        "# Extract 80% with low LTV who used the internet service, and save each proportion of subsets of internet service\n",
        "#in the variable \"proportion_internet_sub_service\"\n",
        "paying_TotalCharges_under80_use_internet = paying_TotalCharges_under80.query('InternetService!=\"No\"')\n",
        "paying_proportion_internet_sub_service_under80 = np.array([paying_TotalCharges_under80_use_internet.query('OnlineSecurity==\"Yes\"').shape[0]/paying_TotalCharges_under80_use_internet.shape[0],\n",
        "paying_TotalCharges_under80_use_internet.query('TechSupport==\"Yes\"').shape[0]/paying_TotalCharges_under80_use_internet.shape[0],\n",
        "paying_TotalCharges_under80_use_internet.query('OnlineBackup==\"Yes\"').shape[0]/paying_TotalCharges_under80_use_internet.shape[0],\n",
        "paying_TotalCharges_under80_use_internet.query('DeviceProtection==\"Yes\"').shape[0]/paying_TotalCharges_under80_use_internet.shape[0],\n",
        "paying_TotalCharges_under80_use_internet.query('StreamingTV==\"Yes\"').shape[0]/paying_TotalCharges_under80_use_internet.shape[0],\n",
        "paying_TotalCharges_under80_use_internet.query('StreamingMovies==\"Yes\"').shape[0]/paying_TotalCharges_under80_use_internet.shape[0]])*100"
      ]
    },
    {
      "cell_type": "code",
      "execution_count": null,
      "metadata": {
        "id": "TYjnqHOrpsXY"
      },
      "outputs": [],
      "source": [
        "# Extract 20% with high LTV who used the internet service, and save each proportion of subsets of internet service\n",
        "#in the variable \"proportion_internet_sub_service_above80\"\n",
        "paying_TotalCharges_above80_use_internet = TotalCharges_above80.query('InternetService!=\"No\"')\n",
        "paying_proportion_internet_sub_service_above80 = np.array([paying_TotalCharges_above80.query('OnlineSecurity==\"Yes\"').shape[0]/paying_TotalCharges_above80.shape[0],\n",
        "paying_TotalCharges_above80.query('TechSupport==\"Yes\"').shape[0]/paying_TotalCharges_above80.shape[0],\n",
        "paying_TotalCharges_above80.query('OnlineBackup==\"Yes\"').shape[0]/paying_TotalCharges_above80.shape[0],\n",
        "paying_TotalCharges_above80.query('DeviceProtection==\"Yes\"').shape[0]/paying_TotalCharges_above80.shape[0],\n",
        "paying_TotalCharges_above80.query('StreamingTV==\"Yes\"').shape[0]/paying_TotalCharges_above80.shape[0],\n",
        "paying_TotalCharges_above80.query('StreamingMovies==\"Yes\"').shape[0]/paying_TotalCharges_above80.shape[0]])*100"
      ]
    },
    {
      "cell_type": "code",
      "execution_count": null,
      "metadata": {
        "scrolled": true,
        "id": "rx1BD1SopsXY",
        "outputId": "0fc302b8-3105-4943-f212-3f92da83379e"
      },
      "outputs": [
        {
          "data": {
            "image/png": "[encoded data removed]",
            "text/plain": [
              "<Figure size 720x432 with 2 Axes>"
            ]
          },
          "metadata": {
            "needs_background": "light"
          },
          "output_type": "display_data"
        }
      ],
      "source": [
        "# Investigate the proportion of people used phone service by each groups\n",
        "plt.figure(figsize = [10, 6])\n",
        "\n",
        "plt.subplot(2, 1, 1)\n",
        "# Group 1: 80%(low LTV) of data\n",
        "((paying_TotalCharges_under80.PhoneService.value_counts()/paying_TotalCharges_under80.shape[0])*100).plot.barh();\n",
        "desc(title=\"Propotion of whether people used phone service in 80%(low LTV) of data\", xlabel=\"%\",xticks1=range(0,110,10),xticks2=range(0,110,10))\n",
        "\n",
        "plt.subplot(2, 1, 2)\n",
        "# Group 2: 20%(high LTV) of data\n",
        "((paying_TotalCharges_above80.PhoneService.value_counts()/paying_TotalCharges_above80.shape[0])*100).plot.barh();\n",
        "desc(title=\"Proportion of whether people used phone service in 20%(high LTV) of data\", xlabel=\"%\",xticks1=range(0,110,10),xticks2=range(0,110,10))\n",
        "plt.tight_layout()"
      ]
    },
    {
      "cell_type": "markdown",
      "metadata": {
        "id": "p6EU2Vk3psXZ"
      },
      "source": [
        "> Note: 20%(high LTV) of data has only 2% who didn't use the phone service. On the other hand, 80%(low LTV) of data has 11% who didn't use the phone service, which is 5 times as much as the phone service proportion of 20%(high LTV) of data."
      ]
    },
    {
      "cell_type": "code",
      "execution_count": null,
      "metadata": {
        "scrolled": true,
        "id": "fWUZI9h7psXZ",
        "outputId": "4a70ab9a-cf49-44bf-cb9d-f9eca98ddeb4"
      },
      "outputs": [
        {
          "data": {
            "image/png": "[encoded data removed]",
            "text/plain": [
              "<Figure size 720x432 with 2 Axes>"
            ]
          },
          "metadata": {
            "needs_background": "light"
          },
          "output_type": "display_data"
        }
      ],
      "source": [
        "# Investigate the proportion of people who used phone service withn muiltple lines by each groups\n",
        "plt.figure(figsize = [10, 6])\n",
        "\n",
        "plt.subplot(2, 1, 1)\n",
        "# Group 1: 80%(low LTV) of data\n",
        "paying_TotalCharges_under80_use_phone = paying_TotalCharges_under80.query('PhoneService==\"Yes\"')\n",
        "(((paying_TotalCharges_under80_use_phone.MultipleLines.value_counts()/paying_TotalCharges_under80_use_phone.shape[0]).sort_values(ascending=True))*100).plot.barh();\n",
        "desc(title=\"Proportion of whether people used MultipleLines in 80%(low LTV) of data with Phone Service\", xlabel=\"%\",xticks1=range(0,100,10),xticks2=range(0,100,10));\n",
        "\n",
        "plt.subplot(2, 1, 2)\n",
        "# Group 2: 20%(high LTV) of data\n",
        "paying_TotalCharges_above80_use_phone = paying_TotalCharges_above80.query('PhoneService==\"Yes\"')\n",
        "((paying_TotalCharges_above80_use_phone.MultipleLines.value_counts()/paying_TotalCharges_above80_use_phone.shape[0])*100).plot.barh();\n",
        "desc(title=\"Proportion of whether people used MultipleLines in 20%(high LTV) of data with Phone Service\", xlabel=\"%\",xticks1=range(0,100,10),xticks2=range(0,100,10));\n",
        "\n",
        "plt.tight_layout()"
      ]
    },
    {
      "cell_type": "markdown",
      "metadata": {
        "id": "wE6WoQz1psXa"
      },
      "source": [
        "> Note: 20%(high LTV) of data of those who used phone service has 83% used multiple lines, which is 2.4 times as much as the proportion of multiple lines in 80%(low LTV) of data of those who used phone service."
      ]
    },
    {
      "cell_type": "code",
      "execution_count": null,
      "metadata": {
        "scrolled": false,
        "id": "GTAguuAOpsXa",
        "outputId": "5981a1ad-fa65-4b27-b03b-41455392afae"
      },
      "outputs": [
        {
          "data": {
            "image/png": "[encoded data removed]",
            "text/plain": [
              "<Figure size 720x432 with 2 Axes>"
            ]
          },
          "metadata": {
            "needs_background": "light"
          },
          "output_type": "display_data"
        }
      ],
      "source": [
        "# VInvestigate proportion of people who used the internet service by each goups\n",
        "plt.figure(figsize = [10, 6])\n",
        "\n",
        "plt.subplot(2, 1, 1)\n",
        "# Group 1: 80%(low LTV) of data\n",
        "((paying_TotalCharges_under80.InternetService.value_counts()/paying_TotalCharges_under80.shape[0])*100).plot.barh();\n",
        "desc(title=\"Proportion of people used the internet service in 80%(low LTV) of data\", xlabel=\"%\",xticks1=range(0,110,10),xticks2=range(0,110,10));\n",
        "\n",
        "plt.subplot(2, 1, 2)\n",
        "# Group 2: 20%(high LTV) of data\n",
        "((paying_TotalCharges_above80.InternetService.value_counts()/paying_TotalCharges_above80.shape[0])*100).plot.barh();\n",
        "desc(title=\"Proportion of people used the internet service in 20%(high LTV) of data\", xlabel=\"%\",xticks1=range(0,110,10),xticks2=range(0,110,10));\n",
        "\n",
        "plt.tight_layout()"
      ]
    },
    {
      "cell_type": "markdown",
      "metadata": {
        "id": "F7K2JwVcpsXa"
      },
      "source": [
        "> Note: I found all of those with high LTV all used internet service. On the other hand, the 80% of those with low LTV has 33% did not use internet service. And, in 20%(high LTV) of data , there is 90% of people used fiber optic as their internet service."
      ]
    },
    {
      "cell_type": "code",
      "execution_count": null,
      "metadata": {
        "scrolled": true,
        "id": "I-bx6I8dpsXb",
        "outputId": "dde16f2b-64e4-4e74-f405-a0cca1c71b65"
      },
      "outputs": [
        {
          "data": {
            "image/png": "[encoded data removed]",
            "text/plain": [
              "<Figure size 864x432 with 2 Axes>"
            ]
          },
          "metadata": {
            "needs_background": "light"
          },
          "output_type": "display_data"
        }
      ],
      "source": [
        "# Investigate the Proportion by subset of internet service by each groups\n",
        "plt.figure(figsize = [12, 6])\n",
        "\n",
        "plt.subplot(2, 1, 1)\n",
        "# Group 1: 80%(low LTV) of data\n",
        "plt.barh(range(0,6),paying_proportion_internet_sub_service_under80)\n",
        "desc(title='Proportion of subset of internet service in 80%(low LTV) data with internet service',xlabel=\"%\",yticks1=range(0,6),yticks2=['OnlineSecurity','TechSupport','OnlineBackup','DeviceProtection','StreamingTV','StreamingMovies'],xticks1=range(0,100,10),xticks2=range(0,100,10))\n",
        "plt.subplot(2, 1, 2)\n",
        "# Group 2: 20%(high LTV) of data\n",
        "plt.barh(range(0,6), paying_proportion_internet_sub_service_above80)\n",
        "desc(title='Proportion of subset of internet service in 20%(high LTV) data with internet service',xlabel=\"%\",yticks1=range(0,6),yticks2=['OnlineSecurity','TechSupport','OnlineBackup','DeviceProtection','StreamingTV','StreamingMovies'],xticks1=range(0,100,10),xticks2=range(0,100,10))\n",
        "plt.tight_layout()"
      ]
    },
    {
      "cell_type": "markdown",
      "metadata": {
        "id": "z6OI8HGmpsXb"
      },
      "source": [
        "> Note:\n",
        "1. All the proportions of each internet services in 80%(low LTV) of data are near 40%.\n",
        "2. In 20%(high LTV) of data, both streaming movies and streaming tv are near 80%, the proportions of both device protection and online backup are near 75%, and the proportions of techsupport and online seciroty are near 62%."
      ]
    },
    {
      "cell_type": "markdown",
      "metadata": {
        "id": "5DbjX0ucpsXc"
      },
      "source": [
        "## Research Question 5: For those who are still in service with LTV more than the LTV of leaked customers, which service they are paying the most?\n",
        "\n",
        "> Note: Based on above reseach questions, I also want to investigate this question by two diffrent groups: 80/20"
      ]
    },
    {
      "cell_type": "code",
      "execution_count": null,
      "metadata": {
        "id": "13mBtzW2psXc"
      },
      "outputs": [],
      "source": [
        "# The average LTV in 80%(low LTV) of data of leaked customers is 750\n",
        "# The average LTV in 20%(high LTV) of data of leaked customers is 4750\n",
        "\n",
        "# Extract the 80%(low LTV) of data that the LTV is higher than 750\n",
        "paying_TotalCharges_under80_higherthanleak = paying_TotalCharges_under80.query('TotalCharges>750')\n",
        "# Extract the 20%(high LTV) of data that the LTV is higher than 4750\n",
        "paying_TotalCharges_above80_higherthanleak = paying_TotalCharges_above80.query('TotalCharges>4750')"
      ]
    },
    {
      "cell_type": "code",
      "execution_count": null,
      "metadata": {
        "scrolled": true,
        "id": "Hs-bmisnpsXc",
        "outputId": "e061158c-d161-441b-e5c1-604041c5f103"
      },
      "outputs": [
        {
          "data": {
            "image/png": "[encoded data removed]",
            "text/plain": [
              "<Figure size 720x432 with 2 Axes>"
            ]
          },
          "metadata": {
            "needs_background": "light"
          },
          "output_type": "display_data"
        }
      ],
      "source": [
        "# Investigate the proportion of people used phone service by each groups\n",
        "plt.figure(figsize = [10, 6])\n",
        "\n",
        "plt.subplot(2, 1, 1)\n",
        "# Group 1: 80%(low LTV) of data\n",
        "((paying_TotalCharges_under80_higherthanleak.PhoneService.value_counts()/paying_TotalCharges_under80_higherthanleak.shape[0])*100).plot.barh();\n",
        "desc(title=\"Propotion of whether people used phone service in 80%(low LTV) of data\", xlabel=\"%\",xticks1=range(0,110,10),xticks2=range(0,110,10))\n",
        "\n",
        "plt.subplot(2, 1, 2)\n",
        "# Group 2: 20%(high LTV) of data\n",
        "((paying_TotalCharges_above80_higherthanleak.PhoneService.value_counts()/paying_TotalCharges_above80_higherthanleak.shape[0])*100).plot.barh();\n",
        "desc(title=\"Proportion of whether people used phone service in 20%(high LTV) of data\", xlabel=\"%\",xticks1=range(0,110,10),xticks2=range(0,110,10))\n",
        "plt.tight_layout()"
      ]
    },
    {
      "cell_type": "markdown",
      "metadata": {
        "id": "mjbO_lWBpsXd"
      },
      "source": [
        "> Note:\n",
        "1. In 80%(low LTV) of data of current customers, whose LTV are higher than the LTV In 80%(low LTV) of data of leaked customers, there are 86% are using phone service.\n",
        "2. In 20%(high LTV) of data of current customers, whose LTV are higher than the LTV In 20%(high LTV) of data of leaked customers, there are 100% are using phone service."
      ]
    },
    {
      "cell_type": "code",
      "execution_count": null,
      "metadata": {
        "scrolled": false,
        "id": "cGIAtWZhpsXd",
        "outputId": "d7aa2327-a2cf-4178-e97e-552bf90c1b3e"
      },
      "outputs": [
        {
          "data": {
            "image/png": "[encoded data removed]",
            "text/plain": [
              "<Figure size 720x432 with 2 Axes>"
            ]
          },
          "metadata": {
            "needs_background": "light"
          },
          "output_type": "display_data"
        }
      ],
      "source": [
        "# Investigate the proportion of people who used phone service withn muiltple lines by each groups\n",
        "plt.figure(figsize = [10, 6])\n",
        "\n",
        "plt.subplot(2, 1, 1)\n",
        "# Group 1: 80%(low LTV) of data\n",
        "paying_TotalCharges_under80_use_phone_higherthanleak = paying_TotalCharges_under80_higherthanleak.query('PhoneService==\"Yes\"')\n",
        "(((paying_TotalCharges_under80_use_phone_higherthanleak.MultipleLines.value_counts()/paying_TotalCharges_under80_use_phone_higherthanleak.shape[0]).sort_values(ascending=True))*100).plot.barh();\n",
        "desc(title=\"Proportion of whether people used MultipleLines in 80%(low LTV) of data with Phone Service\", xlabel=\"%\",xticks1=range(0,100,10),xticks2=range(0,100,10));\n",
        "\n",
        "plt.subplot(2, 1, 2)\n",
        "# Group 2: 20%(high LTV) of data\n",
        "paying_TotalCharges_above80_use_phone_higherthanleak = paying_TotalCharges_above80_higherthanleak.query('PhoneService==\"Yes\"')\n",
        "((paying_TotalCharges_above80_use_phone_higherthanleak.MultipleLines.value_counts()/paying_TotalCharges_above80_use_phone_higherthanleak.shape[0])*100).plot.barh();\n",
        "desc(title=\"Proportion of whether people used MultipleLines in 20%(high LTV) of data with Phone Service\", xlabel=\"%\",xticks1=range(0,100,10),xticks2=range(0,100,10));\n",
        "\n",
        "plt.tight_layout()"
      ]
    },
    {
      "cell_type": "markdown",
      "metadata": {
        "id": "t5cUCOd-psXe"
      },
      "source": [
        "> Note:\n",
        "1. In 80%(low LTV) of data of current customers, whose LTV are higher than the LTV In 80%(low LTV) of data of leaked customers, there are 48% using phone service with multiple lines.\n",
        "2. In 20%(high LTV) of data of current customers, whose LTV are higher than the LTV In 20%(high LTV) of data of leaked customers, there are 89% are using phone service."
      ]
    },
    {
      "cell_type": "code",
      "execution_count": null,
      "metadata": {
        "scrolled": false,
        "id": "FlQHS5pQpsXe",
        "outputId": "70c74f21-428e-4f2c-e2de-aba27650f966"
      },
      "outputs": [
        {
          "data": {
            "image/png": "[encoded data removed]",
            "text/plain": [
              "<Figure size 720x432 with 2 Axes>"
            ]
          },
          "metadata": {
            "needs_background": "light"
          },
          "output_type": "display_data"
        }
      ],
      "source": [
        "# VInvestigate proportion of people who used the internet service by each goups\n",
        "plt.figure(figsize = [10, 6])\n",
        "\n",
        "plt.subplot(2, 1, 1)\n",
        "# Group 1: 80%(low LTV) of data\n",
        "((paying_TotalCharges_under80_higherthanleak.InternetService.value_counts()/paying_TotalCharges_under80_higherthanleak.shape[0])*100).plot.barh();\n",
        "desc(title=\"Proportion of people used the internet service in 80%(low LTV) of data\", xlabel=\"%\",xticks1=range(0,110,10),xticks2=range(0,110,10));\n",
        "\n",
        "plt.subplot(2, 1, 2)\n",
        "# Group 2: 20%(high LTV) of data\n",
        "((paying_TotalCharges_above80_higherthanleak.InternetService.value_counts()/paying_TotalCharges_above80_higherthanleak.shape[0])*100).plot.barh();\n",
        "desc(title=\"Proportion of people used the internet service in 20%(high LTV) of data\", xlabel=\"%\",xticks1=range(0,110,10),xticks2=range(0,110,10));\n",
        "\n",
        "plt.tight_layout()"
      ]
    },
    {
      "cell_type": "markdown",
      "metadata": {
        "id": "ndoZm5B8psXg"
      },
      "source": [
        "> Note:\n",
        "1. In 80%(low LTV) of data of current customers, whose LTV are higher than the LTV In 80%(low LTV) of data of leaked customers, there are 22% are not using internet service\n",
        "2. In 20%(high LTV) of data of current customers, whose LTV are higher than the LTV In 20%(high LTV) of data of leaked customers, there are 100% are using internet service."
      ]
    },
    {
      "cell_type": "code",
      "execution_count": null,
      "metadata": {
        "id": "jA0e5b7gpsXg"
      },
      "outputs": [],
      "source": [
        "# Extract 80% with low LTV who used the internet service, and save each proportion of subsets of internet service\n",
        "#in the variable \"proportion_internet_sub_service\"\n",
        "paying_TotalCharges_under80_use_internet_higherthanleak = paying_TotalCharges_under80_higherthanleak.query('InternetService!=\"No\"')\n",
        "paying_proportion_internet_sub_service_under80_higherthanleak = np.array([paying_TotalCharges_under80_use_internet_higherthanleak.query('OnlineSecurity==\"Yes\"').shape[0]/paying_TotalCharges_under80_use_internet_higherthanleak.shape[0],\n",
        "paying_TotalCharges_under80_use_internet_higherthanleak.query('TechSupport==\"Yes\"').shape[0]/paying_TotalCharges_under80_use_internet_higherthanleak.shape[0],\n",
        "paying_TotalCharges_under80_use_internet_higherthanleak.query('OnlineBackup==\"Yes\"').shape[0]/paying_TotalCharges_under80_use_internet_higherthanleak.shape[0],\n",
        "paying_TotalCharges_under80_use_internet_higherthanleak.query('DeviceProtection==\"Yes\"').shape[0]/paying_TotalCharges_under80_use_internet_higherthanleak.shape[0],\n",
        "paying_TotalCharges_under80_use_internet_higherthanleak.query('StreamingTV==\"Yes\"').shape[0]/paying_TotalCharges_under80_use_internet_higherthanleak.shape[0],\n",
        "paying_TotalCharges_under80_use_internet_higherthanleak.query('StreamingMovies==\"Yes\"').shape[0]/paying_TotalCharges_under80_use_internet_higherthanleak.shape[0]])*100"
      ]
    },
    {
      "cell_type": "code",
      "execution_count": null,
      "metadata": {
        "id": "PjM3-a89psXh"
      },
      "outputs": [],
      "source": [
        "# Extract 20% with high LTV who used the internet service, and save each proportion of subsets of internet service\n",
        "#in the variable \"proportion_internet_sub_service_above80\"\n",
        "paying_TotalCharges_above80_higherthanleak = paying_TotalCharges_above80_higherthanleak.query('InternetService!=\"No\"')\n",
        "paying_proportion_internet_sub_service_above80_higherthanleak = np.array([paying_TotalCharges_above80_higherthanleak.query('OnlineSecurity==\"Yes\"').shape[0]/paying_TotalCharges_above80_higherthanleak.shape[0],\n",
        "paying_TotalCharges_above80_higherthanleak.query('TechSupport==\"Yes\"').shape[0]/paying_TotalCharges_above80_higherthanleak.shape[0],\n",
        "paying_TotalCharges_above80_higherthanleak.query('OnlineBackup==\"Yes\"').shape[0]/paying_TotalCharges_above80_higherthanleak.shape[0],\n",
        "paying_TotalCharges_above80_higherthanleak.query('DeviceProtection==\"Yes\"').shape[0]/paying_TotalCharges_above80_higherthanleak.shape[0],\n",
        "paying_TotalCharges_above80_higherthanleak.query('StreamingTV==\"Yes\"').shape[0]/paying_TotalCharges_above80_higherthanleak.shape[0],\n",
        "paying_TotalCharges_above80_higherthanleak.query('StreamingMovies==\"Yes\"').shape[0]/paying_TotalCharges_above80_higherthanleak.shape[0]])*100"
      ]
    },
    {
      "cell_type": "code",
      "execution_count": null,
      "metadata": {
        "scrolled": true,
        "id": "oogkMz6jpsXh",
        "outputId": "c01aa89a-8713-4fd9-f6cc-9e06bf347470"
      },
      "outputs": [
        {
          "data": {
            "image/png": "[encoded data removed]",
            "text/plain": [
              "<Figure size 864x432 with 2 Axes>"
            ]
          },
          "metadata": {
            "needs_background": "light"
          },
          "output_type": "display_data"
        }
      ],
      "source": [
        "# Investigate the Proportion by subset of internet service by each groups\n",
        "plt.figure(figsize = [12, 6])\n",
        "\n",
        "plt.subplot(2, 1, 1)\n",
        "# Group 1: 80%(low LTV) of data\n",
        "plt.barh(range(0,6),paying_proportion_internet_sub_service_under80_higherthanleak)\n",
        "desc(title='Proportion of subset of internet service in 80%(low LTV) data with internet service',xlabel=\"%\",yticks1=range(0,6),yticks2=['OnlineSecurity','TechSupport','OnlineBackup','DeviceProtection','StreamingTV','StreamingMovies'],xticks1=range(0,100,10),xticks2=range(0,100,10))\n",
        "plt.subplot(2, 1, 2)\n",
        "# Group 2: 20%(high LTV) of data\n",
        "plt.barh(range(0,6), paying_proportion_internet_sub_service_above80_higherthanleak)\n",
        "desc(title='Proportion of subset of internet service in 20%(high LTV) data with internet service',xlabel=\"%\",yticks1=range(0,6),yticks2=['OnlineSecurity','TechSupport','OnlineBackup','DeviceProtection','StreamingTV','StreamingMovies'],xticks1=range(0,100,10),xticks2=range(0,100,10))\n",
        "plt.tight_layout()"
      ]
    },
    {
      "cell_type": "markdown",
      "metadata": {
        "id": "-6hGVz7vpsXi"
      },
      "source": [
        "> Note:\n",
        "1. In 80%(low LTV) of data of current customers, whose LTV are higher than the LTV In 80%(low LTV) of data of leaked customers, there are all the proportions of each internet services in 80%(low LTV) of data are near 45%.\n",
        "2. In 20%(high LTV) of data of current customers, whose LTV are higher than the LTV In 20%(high LTV) of data of leaked customers, both streaming movies and streaming tv are near 90%, the proportions of both device protection and online backup are near 70%, and the proportions of techsupport and online seciroty are near 37%."
      ]
    },
    {
      "cell_type": "markdown",
      "metadata": {
        "id": "QVbfDaz7psXi"
      },
      "source": [
        "## Research Question 6:  For two groups of those who leaked and still are paying the service, what is the proportion of each kinds of contract by each group?"
      ]
    },
    {
      "cell_type": "code",
      "execution_count": null,
      "metadata": {
        "id": "X18AV9g3psXj",
        "outputId": "3e4a08bb-2dc6-4316-e688-9265f87ea43b"
      },
      "outputs": [
        {
          "data": {
            "image/png": "[encoded data removed]",
            "text/plain": [
              "<Figure size 864x432 with 2 Axes>"
            ]
          },
          "metadata": {
            "needs_background": "light"
          },
          "output_type": "display_data"
        }
      ],
      "source": [
        "plt.figure(figsize = [12, 6])\n",
        "# Visualize the plot of leaked customers\n",
        "plt.subplot(2, 1, 1)\n",
        "((Churn_df.Contract.value_counts()/Churn_df.shape[0])*100).plot.barh();\n",
        "desc(xticks1=range(0,100,10),xticks2=range(0,100,10),ylabel='Contract',xlabel=\"%\",title=\"The proportion of each contracts that leaked customers had\")\n",
        "\n",
        "# Visualize the plot of current customers\n",
        "plt.subplot(2, 1, 2)\n",
        "((paying_df.Contract.value_counts()/paying_df.shape[0])*100).plot.barh();\n",
        "desc(xticks1=range(0,100,10),xticks2=range(0,100,10),ylabel='Contract',xlabel=\"%\",title=\"The proportion of each contracts that current customers are under\")\n",
        "plt.tight_layout()"
      ]
    },
    {
      "cell_type": "markdown",
      "metadata": {
        "id": "v4ad-XqZpsXj"
      },
      "source": [
        "> Note:\n",
        "1. In the data of leaked customers, there are 88% used month contract, 9% used one year contract, and 2 % two year contract.\n",
        "2. In the data of current customers, there are 43% using month contract, 25% used one year contract, and 32% two year contract."
      ]
    },
    {
      "cell_type": "markdown",
      "metadata": {
        "id": "HN27amGBpsXk"
      },
      "source": [
        "## Research Question 7:  Among 'gender', 'Partner', 'Dependents','PhoneService', 'InternetService', 'contract', and 'PaymentMethod', what variable affected the LTV the most?"
      ]
    },
    {
      "cell_type": "code",
      "execution_count": null,
      "metadata": {
        "id": "cBLZWlPqpsXk"
      },
      "outputs": [],
      "source": [
        "clean_df[['Female', 'Male']] = pd.get_dummies(clean_df['gender'])\n",
        "clean_df[['No', 'Partner_Yes']] = pd.get_dummies(clean_df['Partner'])\n",
        "clean_df[['Dependents_No', 'Dependents_Yes']] = pd.get_dummies(clean_df['Dependents'])\n",
        "clean_df[['No', 'PhoneService_Yes']] = pd.get_dummies(clean_df['PhoneService'])\n",
        "clean_df[['DSL', 'Fiber optic', 'No']] = pd.get_dummies(clean_df['InternetService'])\n",
        "clean_df[['Month-to-month', 'One year', 'Two year']] = pd.get_dummies(clean_df['Contract'])\n",
        "clean_df[['matBank transfer (autoic)', 'Credit card (automatic)', 'Electronic check', 'Mailed check']] = pd.get_dummies(clean_df['PaymentMethod'])"
      ]
    },
    {
      "cell_type": "code",
      "execution_count": null,
      "metadata": {
        "scrolled": true,
        "id": "LXkY-mvjpsXk",
        "outputId": "efd91de7-d453-4fb9-e659-baf8fbe3075f"
      },
      "outputs": [
        {
          "data": {
            "text/html": [
              "<table class=\"simpletable\">\n",
              "<caption>OLS Regression Results</caption>\n",
              "<tr>\n",
              "  <th>Dep. Variable:</th>      <td>TotalCharges</td>   <th>  R-squared:         </th> <td>   0.592</td> \n",
              "</tr>\n",
              "<tr>\n",
              "  <th>Model:</th>                   <td>OLS</td>       <th>  Adj. R-squared:    </th> <td>   0.592</td> \n",
              "</tr>\n",
              "<tr>\n",
              "  <th>Method:</th>             <td>Least Squares</td>  <th>  F-statistic:       </th> <td>   928.1</td> \n",
              "</tr>\n",
              "<tr>\n",
              "  <th>Date:</th>             <td>Wed, 29 Apr 2020</td> <th>  Prob (F-statistic):</th>  <td>  0.00</td>  \n",
              "</tr>\n",
              "<tr>\n",
              "  <th>Time:</th>                 <td>13:02:04</td>     <th>  Log-Likelihood:    </th> <td> -61243.</td> \n",
              "</tr>\n",
              "<tr>\n",
              "  <th>No. Observations:</th>      <td>  7043</td>      <th>  AIC:               </th> <td>1.225e+05</td>\n",
              "</tr>\n",
              "<tr>\n",
              "  <th>Df Residuals:</th>          <td>  7031</td>      <th>  BIC:               </th> <td>1.226e+05</td>\n",
              "</tr>\n",
              "<tr>\n",
              "  <th>Df Model:</th>              <td>    11</td>      <th>                     </th>     <td> </td>    \n",
              "</tr>\n",
              "<tr>\n",
              "  <th>Covariance Type:</th>      <td>nonrobust</td>    <th>                     </th>     <td> </td>    \n",
              "</tr>\n",
              "</table>\n",
              "<table class=\"simpletable\">\n",
              "<tr>\n",
              "              <td></td>                 <th>coef</th>     <th>std err</th>      <th>t</th>      <th>P>|t|</th>  <th>[0.025</th>    <th>0.975]</th>  \n",
              "</tr>\n",
              "<tr>\n",
              "  <th>intercept</th>                 <td>-2408.0897</td> <td>   90.795</td> <td>  -26.522</td> <td> 0.000</td> <td>-2586.075</td> <td>-2230.105</td>\n",
              "</tr>\n",
              "<tr>\n",
              "  <th>Male</th>                      <td>   35.3705</td> <td>   34.506</td> <td>    1.025</td> <td> 0.305</td> <td>  -32.272</td> <td>  103.013</td>\n",
              "</tr>\n",
              "<tr>\n",
              "  <th>Partner_Yes</th>               <td>  717.1189</td> <td>   40.290</td> <td>   17.799</td> <td> 0.000</td> <td>  638.138</td> <td>  796.100</td>\n",
              "</tr>\n",
              "<tr>\n",
              "  <th>Dependents_No</th>             <td>  254.2784</td> <td>   43.314</td> <td>    5.871</td> <td> 0.000</td> <td>  169.371</td> <td>  339.186</td>\n",
              "</tr>\n",
              "<tr>\n",
              "  <th>PhoneService_Yes</th>          <td>  662.5648</td> <td>   65.517</td> <td>   10.113</td> <td> 0.000</td> <td>  534.132</td> <td>  790.998</td>\n",
              "</tr>\n",
              "<tr>\n",
              "  <th>DSL</th>                       <td> 2043.2198</td> <td>   52.409</td> <td>   38.986</td> <td> 0.000</td> <td> 1940.483</td> <td> 2145.957</td>\n",
              "</tr>\n",
              "<tr>\n",
              "  <th>Fiber optic</th>               <td> 3412.4872</td> <td>   52.277</td> <td>   65.276</td> <td> 0.000</td> <td> 3310.008</td> <td> 3514.967</td>\n",
              "</tr>\n",
              "<tr>\n",
              "  <th>One year</th>                  <td> 1897.2454</td> <td>   46.573</td> <td>   40.737</td> <td> 0.000</td> <td> 1805.947</td> <td> 1988.543</td>\n",
              "</tr>\n",
              "<tr>\n",
              "  <th>Two year</th>                  <td> 2840.6051</td> <td>   48.427</td> <td>   58.658</td> <td> 0.000</td> <td> 2745.674</td> <td> 2935.536</td>\n",
              "</tr>\n",
              "<tr>\n",
              "  <th>matBank transfer (autoic)</th> <td>  583.9313</td> <td>   54.209</td> <td>   10.772</td> <td> 0.000</td> <td>  477.665</td> <td>  690.198</td>\n",
              "</tr>\n",
              "<tr>\n",
              "  <th>Credit card (automatic)</th>   <td>  579.3687</td> <td>   54.315</td> <td>   10.667</td> <td> 0.000</td> <td>  472.895</td> <td>  685.842</td>\n",
              "</tr>\n",
              "<tr>\n",
              "  <th>Electronic check</th>          <td>   32.3058</td> <td>   52.282</td> <td>    0.618</td> <td> 0.537</td> <td>  -70.183</td> <td>  134.795</td>\n",
              "</tr>\n",
              "</table>\n",
              "<table class=\"simpletable\">\n",
              "<tr>\n",
              "  <th>Omnibus:</th>       <td>170.388</td> <th>  Durbin-Watson:     </th> <td>   2.019</td>\n",
              "</tr>\n",
              "<tr>\n",
              "  <th>Prob(Omnibus):</th> <td> 0.000</td>  <th>  Jarque-Bera (JB):  </th> <td> 170.448</td>\n",
              "</tr>\n",
              "<tr>\n",
              "  <th>Skew:</th>          <td> 0.354</td>  <th>  Prob(JB):          </th> <td>9.72e-38</td>\n",
              "</tr>\n",
              "<tr>\n",
              "  <th>Kurtosis:</th>      <td> 2.719</td>  <th>  Cond. No.          </th> <td>    12.1</td>\n",
              "</tr>\n",
              "</table><br/><br/>Warnings:<br/>[1] Standard Errors assume that the covariance matrix of the errors is correctly specified."
            ],
            "text/plain": [
              "<class 'statsmodels.iolib.summary.Summary'>\n",
              "\"\"\"\n",
              "                            OLS Regression Results                            \n",
              "==============================================================================\n",
              "Dep. Variable:           TotalCharges   R-squared:                       0.592\n",
              "Model:                            OLS   Adj. R-squared:                  0.592\n",
              "Method:                 Least Squares   F-statistic:                     928.1\n",
              "Date:                Wed, 29 Apr 2020   Prob (F-statistic):               0.00\n",
              "Time:                        13:02:04   Log-Likelihood:                -61243.\n",
              "No. Observations:                7043   AIC:                         1.225e+05\n",
              "Df Residuals:                    7031   BIC:                         1.226e+05\n",
              "Df Model:                          11                                         \n",
              "Covariance Type:            nonrobust                                         \n",
              "=============================================================================================\n",
              "                                coef    std err          t      P>|t|      [0.025      0.975]\n",
              "---------------------------------------------------------------------------------------------\n",
              "intercept                 -2408.0897     90.795    -26.522      0.000   -2586.075   -2230.105\n",
              "Male                         35.3705     34.506      1.025      0.305     -32.272     103.013\n",
              "Partner_Yes                 717.1189     40.290     17.799      0.000     638.138     796.100\n",
              "Dependents_No               254.2784     43.314      5.871      0.000     169.371     339.186\n",
              "PhoneService_Yes            662.5648     65.517     10.113      0.000     534.132     790.998\n",
              "DSL                        2043.2198     52.409     38.986      0.000    1940.483    2145.957\n",
              "Fiber optic                3412.4872     52.277     65.276      0.000    3310.008    3514.967\n",
              "One year                   1897.2454     46.573     40.737      0.000    1805.947    1988.543\n",
              "Two year                   2840.6051     48.427     58.658      0.000    2745.674    2935.536\n",
              "matBank transfer (autoic)   583.9313     54.209     10.772      0.000     477.665     690.198\n",
              "Credit card (automatic)     579.3687     54.315     10.667      0.000     472.895     685.842\n",
              "Electronic check             32.3058     52.282      0.618      0.537     -70.183     134.795\n",
              "==============================================================================\n",
              "Omnibus:                      170.388   Durbin-Watson:                   2.019\n",
              "Prob(Omnibus):                  0.000   Jarque-Bera (JB):              170.448\n",
              "Skew:                           0.354   Prob(JB):                     9.72e-38\n",
              "Kurtosis:                       2.719   Cond. No.                         12.1\n",
              "==============================================================================\n",
              "\n",
              "Warnings:\n",
              "[1] Standard Errors assume that the covariance matrix of the errors is correctly specified.\n",
              "\"\"\""
            ]
          },
          "execution_count": 286,
          "metadata": {},
          "output_type": "execute_result"
        }
      ],
      "source": [
        "# use mutiple linear regression\n",
        "clean_df['intercept'] = 1\n",
        "lm = sm.OLS(clean_df['TotalCharges'], clean_df[['intercept', 'Male', 'Partner_Yes', 'Dependents_No',\n",
        "                                               'PhoneService_Yes', 'DSL', 'Fiber optic', 'One year', 'Two year',\n",
        "                                               'matBank transfer (autoic)', 'Credit card (automatic)',\n",
        "                                                'Electronic check']])\n",
        "results = lm.fit()\n",
        "results.summary()"
      ]
    },
    {
      "cell_type": "code",
      "execution_count": null,
      "metadata": {
        "id": "-Wg3kxE7psXl",
        "outputId": "4030d1ff-9669-4192-b6f0-797f018e5f98"
      },
      "outputs": [
        {
          "data": {
            "text/plain": [
              "Dependents_No                 254.278405\n",
              "Credit card (automatic)       579.368673\n",
              "matBank transfer (autoic)     583.931304\n",
              "PhoneService_Yes              662.564814\n",
              "Partner_Yes                   717.118948\n",
              "One year                     1897.245382\n",
              "DSL                          2043.219839\n",
              "Two year                     2840.605106\n",
              "Fiber optic                  3412.487222\n",
              "dtype: float64"
            ]
          },
          "execution_count": 291,
          "metadata": {},
          "output_type": "execute_result"
        }
      ],
      "source": [
        "results.params.sort_values()[3:]"
      ]
    },
    {
      "cell_type": "markdown",
      "metadata": {
        "id": "7XlCT5w6psXm"
      },
      "source": [
        "> Note:\n",
        "1. 'gender' does not have statistical significance on affecting the LTV.\n",
        "2. 'Partner' have statistical significance on affecting the LTV, whose coefficient correlation is 717.\n",
        "3. 'Dependents' have statistical significance on affecting the LTV, whose coefficient correlation is 254.\n",
        "4. 'PhoneService' have statistical significance on affecting the LTV, whose coefficient correlation is 662.\n",
        "5. 'InternetService' have statistical significance on affecting the LTV, for 'DSL', whose coefficient correlation is 2043. And, for 'Fiber optic', whose coefficient correlation is 3412.\n",
        "6. 'Contract' have statistical significance on affecting the LTV, for 'One year', whose coefficient correlation is 1897. And, for 'Two year', whose coefficient correlation is 2840.\n",
        "7. 'PaymentMethod' have statistical significance on affecting the LTV, for 'matBank transfer', whose coefficient correlation is 583. And, for 'Credit card (automatic)', whose coefficient correlation is 579."
      ]
    },
    {
      "cell_type": "code",
      "execution_count": null,
      "metadata": {
        "scrolled": true,
        "id": "AD7pJBKSpsXm",
        "outputId": "8668517a-5b65-4ecf-b367-40bdc52549a2"
      },
      "outputs": [
        {
          "data": {
            "image/png": "[encoded data removed]",
            "text/plain": [
              "<Figure size 864x432 with 1 Axes>"
            ]
          },
          "metadata": {
            "needs_background": "light"
          },
          "output_type": "display_data"
        }
      ],
      "source": [
        "# Visualize the order of the variables that affects LTV from high to low.\n",
        "plt.figure(figsize = [12, 6])\n",
        "results.params.sort_values()[3:].plot.barh()\n",
        "desc(xlabel=\"coefficient correlation\", ylabel='variables',title='Coefficient correlations toward LTV by different variables');"
      ]
    },
    {
      "cell_type": "code",
      "execution_count": null,
      "metadata": {
        "id": "Ae0PMc6dpsXn"
      },
      "outputs": [],
      "source": [
        "# convert the categorical variables to 0,1\n",
        "clean_df[['No','No internet service', 'OnlineSecurity_yes']] = pd.get_dummies(clean_df['OnlineSecurity'])\n",
        "clean_df[['No','No internet service', 'OnlineBackup_yes']] = pd.get_dummies(clean_df['OnlineBackup'])\n",
        "clean_df[['No','No internet service', 'DeviceProtection_yes']] = pd.get_dummies(clean_df['DeviceProtection'])\n",
        "clean_df[['No','No internet service', 'TechSupport_yes']] = pd.get_dummies(clean_df['TechSupport'])\n",
        "clean_df[['No','No internet service', 'StreamingTV_yes']] = pd.get_dummies(clean_df['StreamingTV'])\n",
        "clean_df[['No','No internet service', 'StreamingMovies_yes']] = pd.get_dummies(clean_df['StreamingMovies'])"
      ]
    },
    {
      "cell_type": "code",
      "execution_count": null,
      "metadata": {
        "id": "pSkKe5ExpsXn",
        "outputId": "2eab5f42-fd99-492b-8de9-9ca7759bd638"
      },
      "outputs": [
        {
          "data": {
            "image/png": "[encoded data removed]",
            "text/plain": [
              "<Figure size 864x432 with 1 Axes>"
            ]
          },
          "metadata": {
            "needs_background": "light"
          },
          "output_type": "display_data"
        }
      ],
      "source": [
        "# use mutiple linear regression\n",
        "# and visualize the order of the variables that affects LTV from high to low.\n",
        "clean_df['intercept'] = 1\n",
        "lm = sm.OLS(clean_df['TotalCharges'], clean_df[['intercept', 'OnlineSecurity_yes', 'OnlineBackup_yes', 'DeviceProtection_yes',\n",
        "                                               'TechSupport_yes', 'StreamingTV_yes',\n",
        "                                                'StreamingMovies_yes']])\n",
        "results = lm.fit()\n",
        "plt.figure(figsize = [12, 6])\n",
        "results.params.sort_values()[1:].plot.barh();\n",
        "desc(xlabel=\"coefficient correlation\", ylabel='variables',title='Coefficient correlations toward LTV by different varibles');"
      ]
    },
    {
      "cell_type": "markdown",
      "metadata": {
        "id": "wedmKkRcpsXo"
      },
      "source": [
        "> Note: Online Backup affects the LTV the most, whose coefficient correlation is 2 times as much as tech support."
      ]
    },
    {
      "cell_type": "markdown",
      "metadata": {
        "id": "rabB0toSpsXo"
      },
      "source": [
        "## Conclusion"
      ]
    },
    {
      "cell_type": "markdown",
      "metadata": {
        "id": "PZqlVGzwpsXp"
      },
      "source": [
        "> Limitation 1 : In this dataset, we can only see one type of each variables instead of real world situation of changing different options as time passes, e.g., in real world, people might wanna try streaming service, but they might change their mind to leave the service next month."
      ]
    },
    {
      "cell_type": "markdown",
      "metadata": {
        "id": "dWhs7Tt_psXp"
      },
      "source": [
        "> Limitation 2 : We cannot only see these variables as whole factors to understand the exact reasons why customers left because they might leave for better price offered by competitors or the bad economy in certian time, etc. We also cannot see the time they leaked, so it's hard to infer those external situation."
      ]
    },
    {
      "cell_type": "markdown",
      "metadata": {
        "id": "S_Vx7YoPpsXp"
      },
      "source": [
        "#### Research Question 1:  For those who unsubscribed the service, what was their average LTV(Life Time Value)? and how long did they usually stay in the service?\n",
        "\n",
        "> I found that around 20% of the data are extremely high, so I decided to divide them to see each distribution of data.\n",
        "\n",
        "> The average LTV of 80% of those who unsubscribed is 750 dollars, and its tenures is near 10 months. On the other hand, the average LTV of top 20% of those who unsubscribed is 4750 dollars, and its tenures is near 50 months. And the ratio by the sum of total LTV by each groups is 750*4 : 4750 = 1 : 1.6, which suggests we should focus on serving those 20% customers with high LTV, which brought 60%(1.6/2.6) of our revennue.\n",
        "\n",
        "#### Research Question 2: Relating to Question 1, what kinds of service they subscribed when they were still staying in subscription?\n",
        "\n",
        "> Because I just found that there is a big difference in LTV and tenures between 80/20% of those who unsubscribed, so I decided to investigate this question in both 80/20% groups, too.\n",
        "\n",
        "> 20%(high LTV) of data has only 2% who didn't use the phone service. On the other hand, 80%(low LTV) of data has 11% who didn't use the phone service, which is 5 times as much as the phone service proportion of 20%(high LTV) of data.\n",
        "\n",
        "> 20%(high LTV) of data of those who used phone service has 84% used multiple lines, which is 2 times as much as the proportion of multiple lines in 80%(low LTV) of data of those who used phone service.\n",
        "\n",
        "> I found all of those with high LTV all used internet service. On the other hand, the 80% of those with low LTV has 8% did not use internet service. And, in 20%(high LTV) of data , there is 90% of people used fiber optic as their internet service.\n",
        "\n",
        "for each subsets of internet services:\n",
        "\n",
        "1.\tThe proportion of streaming movies and streaming tv service in 20%(high LTV) of data are both near 80%, which is 2 times as much as the corresponded proportion in 80%(low LTV) of data.\n",
        "2.\tThe proportion of device protection and online backup service are both near 58%, which is 2.5-3 times as much as the corresponded proportion in 80%(low LTV) of data.\n",
        "3.\tThe proportion of tech support and online security service are both near 31%, which is near 2.5-3 times as much as the corresponded proportion in 80%(low LTV) of data.\n",
        "       \n",
        "#### Research Question 3: For those who are still paying the service, what was their average LTV(Life Time Value)? and how long did they usually stay in the service?\n",
        "\n",
        "> The mean LTV in 80%(low LTV) of data is 1589, and the one in 20%(high LTV) of data is 6389. The mean tenures in 80%(low LTV) of data is 30, and the one in 20%(high LTV) of data is 65. And the ratio by the sum of total LTV by each groups is 1590*4 : 6389 = 1 : 1, which suggests we should focus on serving those 20% customers with high LTV, which brought 50%(1/2) of our revenue.\n",
        "\n",
        "#### Research Question 4: Relating to Question 3, what are the proportions of each kinds of service they are paying?\n",
        "\n",
        "> Because There is a big difference in LTV and tenures between 80/20% of data of current customers, so I decided to investigate this question in both 80/20% groups, too.\n",
        "\n",
        "> 20%(high LTV) of data has only 2% who didn't use the phone service. On the other hand, 80%(low LTV) of data has 11% who didn't use the phone service, which is 5 times as much as the phone service proportion of 20%(high LTV) of data.\n",
        "\n",
        "> 20%(high LTV) of data of those who used phone service has 83% used multiple lines, which is 2.4 times as much as the proportion of multiple lines in 80%(low LTV) of data of those who used phone service.\n",
        "\n",
        "> I found all of those with high LTV all used internet service. On the other hand, the 80% of those with low LTV has 33% did not use internet service. And, in 20%(high LTV) of data, there is 90% of people used fiber optic as their internet service.\n",
        "\n",
        "for each subsets of internet services:\n",
        "\n",
        "1.\tAll the proportions of each internet services in 80%(low LTV) of data are near 40%.\n",
        "2.\tIn 20%(high LTV) of data, both streaming movies and streaming tv are near 80%, the proportions of both device protection and online backup are near 75%, and the proportions of techsupport and online seciroty are near 62%\n",
        "\n",
        "#### Research Question 5: For those who are still in service with LTV more than the LTV of leaked customers, which service they are paying the most?\n",
        "\n",
        "> For phone service:\n",
        "1.\tIn 80%(low LTV) of data of current customers, whose LTV are higher than the LTV In 80%(low LTV) of data of leaked customers, there are 86% are using phone service.\n",
        "2.\tIn 20%(high LTV) of data of current customers, whose LTV are higher than the LTV In 20%(high LTV) of data of leaked customers, there are 100% are using phone service.\n",
        "\n",
        "> For phone service with multiple lines:\n",
        "1.\tIn 80%(low LTV) of data of current customers, whose LTV are higher than the LTV In 80%(low LTV) of data of leaked customers, there are 48% using phone service with multiple lines.\n",
        "2.\tIn 20%(high LTV) of data of current customers, whose LTV are higher than the LTV In 20%(high LTV) of data of leaked customers, there are 89% are using phone service.\n",
        "\n",
        "> For internet service:\n",
        "1.\tIn 80%(low LTV) of data of current customers, whose LTV are higher than the LTV In 80%(low LTV) of data of leaked customers, there are 22% are not using internet service\n",
        "2.\tIn 20%(high LTV) of data of current customers, whose LTV are higher than the LTV In 20%(high LTV) of data of leaked customers, there are 100% are using internet service.\n",
        "\n",
        "> For subsets of internet service:\n",
        "1.\tIn 80%(low LTV) of data of current customers, whose LTV are higher than the LTV In 80%(low LTV) of data of leaked customers, there are all the proportions of each internet services in 80%(low LTV) of data are near 45%.\n",
        "2.\tIn 20%(high LTV) of data of current customers, whose LTV are higher than the LTV In 20%(high LTV) of data of leaked customers, both streaming movies and streaming tv are near 90%, the proportions of both device protection and online backup are near 70%, and the proportions of techsupport and online seciroty are near 37%.\n",
        "\n",
        "#### Research Question 6: For two groups of those who leaked and still are paying the service, what is the proportion of each kinds of contract by each group?\n",
        "\n",
        "1. In the data of leaked customers, there are 88% used month contract, 9% used one year contract, and 2 % two year contract.\n",
        "\n",
        "2. In the data of current customers, there are 43% using month contract, 25% used one year contract, and 32% two year contract.\n",
        "\n",
        "#### Research Question 7: Relating to Question 3, what are the proportions of each kinds of service they are paying?\n",
        "\n",
        "> Coefficient correlations toward LTV by different variables:\n",
        "1. 'gender' does not have statistical significance on affecting the LTV.\n",
        "2. 'Partner' have statistical significance on affecting the LTV, whose coefficient correlation is 717.\n",
        "3. 'Dependents' have statistical significance on affecting the LTV, whose coefficient correlation is 254.\n",
        "4. 'PhoneService' have statistical significance on affecting the LTV, whose coefficient correlation is 662.\n",
        "5. 'InternetService' have statistical significance on affecting the LTV, for 'DSL', whose coefficient correlation is 2043. And, for 'Fiber optic', whose coefficient correlation is 3412.\n",
        "6. 'Contract' have statistical significance on affecting the LTV, for 'One year', whose coefficient correlation is 1897. And, for 'Two year', whose coefficient correlation is 2840.\n",
        "7. 'PaymentMethod' have statistical significance on affecting the LTV, for 'matBank transfer', whose coefficient correlation is 583. And, for 'Credit card (automatic)', whose coefficient correlation is 579.\n",
        "\n",
        "> Coefficient correlations toward LTV by each subsets of internet service:\n",
        "1. Online Backup affects the LTV the most, whose coefficient correlation is 2 times as much as tech support."
      ]
    },
    {
      "cell_type": "code",
      "execution_count": null,
      "metadata": {
        "id": "tyLWu7bIpsXq"
      },
      "outputs": [],
      "source": []
    }
  ],
  "metadata": {
    "kernelspec": {
      "display_name": "Python 3",
      "language": "python",
      "name": "python3"
    },
    "language_info": {
      "codemirror_mode": {
        "name": "ipython",
        "version": 3
      },
      "file_extension": ".py",
      "mimetype": "text/x-python",
      "name": "python",
      "nbconvert_exporter": "python",
      "pygments_lexer": "ipython3",
      "version": "3.7.4"
    },
    "colab": {
      "provenance": [],
      "toc_visible": true,
      "include_colab_link": true
    }
  },
  "nbformat": 4,
  "nbformat_minor": 0
}